{
  "nbformat": 4,
  "nbformat_minor": 0,
  "metadata": {
    "kernelspec": {
      "display_name": "Python 3",
      "language": "python",
      "name": "python3"
    },
    "language_info": {
      "codemirror_mode": {
        "name": "ipython",
        "version": 3
      },
      "file_extension": ".py",
      "mimetype": "text/x-python",
      "name": "python",
      "nbconvert_exporter": "python",
      "pygments_lexer": "ipython3",
      "version": "3.7.6"
    },
    "colab": {
      "name": "Getting_data_ready_for_model_with_augmentation.ipynb",
      "provenance": []
    }
  },
  "cells": [
    {
      "cell_type": "code",
      "metadata": {
        "execution": {
          "iopub.execute_input": "2021-09-06T12:45:19.049327Z",
          "iopub.status.busy": "2021-09-06T12:45:19.048800Z",
          "iopub.status.idle": "2021-09-06T12:45:20.946918Z",
          "shell.execute_reply": "2021-09-06T12:45:20.945852Z",
          "shell.execute_reply.started": "2021-09-06T12:45:19.049222Z"
        },
        "id": "ad2K8dhV2713",
        "colab": {
          "base_uri": "https://localhost:8080/"
        },
        "outputId": "55a8e4d9-9365-4462-faad-f6ce28da8b04"
      },
      "source": [
        "%%time\n",
        "# loading necessary libraries\n",
        "import pandas as pd\n",
        "import seaborn as sns\n",
        "import matplotlib as plt\n",
        "import matplotlib.pyplot as plt\n",
        "import string\n",
        "from nltk.corpus import stopwords\n",
        "import re"
      ],
      "execution_count": 1,
      "outputs": [
        {
          "output_type": "stream",
          "name": "stdout",
          "text": [
            "CPU times: user 667 ms, sys: 252 ms, total: 919 ms\n",
            "Wall time: 1.56 s\n"
          ]
        }
      ]
    },
    {
      "cell_type": "code",
      "metadata": {
        "execution": {
          "iopub.execute_input": "2021-09-06T12:45:20.948844Z",
          "iopub.status.busy": "2021-09-06T12:45:20.948374Z",
          "iopub.status.idle": "2021-09-06T12:45:20.986799Z",
          "shell.execute_reply": "2021-09-06T12:45:20.985450Z",
          "shell.execute_reply.started": "2021-09-06T12:45:20.948807Z"
        },
        "id": "vmiSB2tq272X"
      },
      "source": [
        "file_name='/content/en2cn-2k.en2nen2cn'\n",
        "file = open(file_name,'r',encoding=\"utf8\")\n",
        "text = file.read()\n",
        "# Removing last instance after splitting as it is empty string\n",
        "text = text.split('\\n')[:-1]\n",
        "# Creating the pandas dataframe\n",
        "data = [[text[i], text[i+1]] for i in list(range(0, 6000, 3))]\n",
        "dataframe = pd.DataFrame(data, columns = ['informal_text', 'normal_text'])"
      ],
      "execution_count": 11,
      "outputs": []
    },
    {
      "cell_type": "markdown",
      "metadata": {
        "id": "_y5CPv_f272b"
      },
      "source": [
        "## Inference\n",
        "---   We can see that all the 3rd lines starting from 0 like 0,3,6,9 are informal text\n",
        "\n",
        "---   The very next line of list after informal text is normal english text "
      ]
    },
    {
      "cell_type": "code",
      "metadata": {
        "execution": {
          "iopub.execute_input": "2021-09-06T12:45:21.900032Z",
          "iopub.status.busy": "2021-09-06T12:45:21.899619Z",
          "iopub.status.idle": "2021-09-06T12:45:21.929679Z",
          "shell.execute_reply": "2021-09-06T12:45:21.928411Z",
          "shell.execute_reply.started": "2021-09-06T12:45:21.899987Z"
        },
        "id": "Kar4JFvW272h",
        "colab": {
          "base_uri": "https://localhost:8080/",
          "height": 202
        },
        "outputId": "5cb704b6-ed98-4896-a190-1a4219a83e7a"
      },
      "source": [
        "dataframe.head()"
      ],
      "execution_count": 12,
      "outputs": [
        {
          "output_type": "execute_result",
          "data": {
            "text/html": [
              "<div>\n",
              "<style scoped>\n",
              "    .dataframe tbody tr th:only-of-type {\n",
              "        vertical-align: middle;\n",
              "    }\n",
              "\n",
              "    .dataframe tbody tr th {\n",
              "        vertical-align: top;\n",
              "    }\n",
              "\n",
              "    .dataframe thead th {\n",
              "        text-align: right;\n",
              "    }\n",
              "</style>\n",
              "<table border=\"1\" class=\"dataframe\">\n",
              "  <thead>\n",
              "    <tr style=\"text-align: right;\">\n",
              "      <th></th>\n",
              "      <th>informal_text</th>\n",
              "      <th>normal_text</th>\n",
              "    </tr>\n",
              "  </thead>\n",
              "  <tbody>\n",
              "    <tr>\n",
              "      <th>0</th>\n",
              "      <td>U wan me to \"chop\" seat 4 u nt?</td>\n",
              "      <td>Do you want me to reserve seat for you or not?</td>\n",
              "    </tr>\n",
              "    <tr>\n",
              "      <th>1</th>\n",
              "      <td>Yup. U reaching. We order some durian pastry a...</td>\n",
              "      <td>Yeap. You reaching? We ordered some Durian pas...</td>\n",
              "    </tr>\n",
              "    <tr>\n",
              "      <th>2</th>\n",
              "      <td>They become more ex oredi... Mine is like 25.....</td>\n",
              "      <td>They become more expensive already. Mine is li...</td>\n",
              "    </tr>\n",
              "    <tr>\n",
              "      <th>3</th>\n",
              "      <td>I'm thai. what do u do?</td>\n",
              "      <td>I'm Thai. What do you do?</td>\n",
              "    </tr>\n",
              "    <tr>\n",
              "      <th>4</th>\n",
              "      <td>Hi! How did your week go? Haven heard from you...</td>\n",
              "      <td>Hi! How did your week go? Haven't heard from y...</td>\n",
              "    </tr>\n",
              "  </tbody>\n",
              "</table>\n",
              "</div>"
            ],
            "text/plain": [
              "                                       informal_text                                        normal_text\n",
              "0                    U wan me to \"chop\" seat 4 u nt?     Do you want me to reserve seat for you or not?\n",
              "1  Yup. U reaching. We order some durian pastry a...  Yeap. You reaching? We ordered some Durian pas...\n",
              "2  They become more ex oredi... Mine is like 25.....  They become more expensive already. Mine is li...\n",
              "3                            I'm thai. what do u do?                          I'm Thai. What do you do?\n",
              "4  Hi! How did your week go? Haven heard from you...  Hi! How did your week go? Haven't heard from y..."
            ]
          },
          "metadata": {},
          "execution_count": 12
        }
      ]
    },
    {
      "cell_type": "markdown",
      "metadata": {
        "id": "NAAhIAHH272j"
      },
      "source": [
        "### Augmentation"
      ]
    },
    {
      "cell_type": "code",
      "metadata": {
        "execution": {
          "iopub.execute_input": "2021-09-06T12:45:25.639965Z",
          "iopub.status.busy": "2021-09-06T12:45:25.639560Z",
          "iopub.status.idle": "2021-09-06T12:45:35.691299Z",
          "shell.execute_reply": "2021-09-06T12:45:35.690123Z",
          "shell.execute_reply.started": "2021-09-06T12:45:25.639929Z"
        },
        "id": "FPqTy-xu3hMO",
        "colab": {
          "base_uri": "https://localhost:8080/"
        },
        "outputId": "d4974c25-a426-4660-9b6b-250ce9cb7c4e"
      },
      "source": [
        "pip install numpy requests nlpaug"
      ],
      "execution_count": 4,
      "outputs": [
        {
          "output_type": "stream",
          "name": "stdout",
          "text": [
            "Requirement already satisfied: numpy in /usr/local/lib/python3.7/dist-packages (1.19.5)\n",
            "Requirement already satisfied: requests in /usr/local/lib/python3.7/dist-packages (2.23.0)\n",
            "Collecting nlpaug\n",
            "  Downloading nlpaug-1.1.7-py3-none-any.whl (405 kB)\n",
            "\u001b[K     |████████████████████████████████| 405 kB 3.3 MB/s \n",
            "\u001b[?25hRequirement already satisfied: certifi>=2017.4.17 in /usr/local/lib/python3.7/dist-packages (from requests) (2021.5.30)\n",
            "Requirement already satisfied: urllib3!=1.25.0,!=1.25.1,<1.26,>=1.21.1 in /usr/local/lib/python3.7/dist-packages (from requests) (1.24.3)\n",
            "Requirement already satisfied: idna<3,>=2.5 in /usr/local/lib/python3.7/dist-packages (from requests) (2.10)\n",
            "Requirement already satisfied: chardet<4,>=3.0.2 in /usr/local/lib/python3.7/dist-packages (from requests) (3.0.4)\n",
            "Installing collected packages: nlpaug\n",
            "Successfully installed nlpaug-1.1.7\n"
          ]
        }
      ]
    },
    {
      "cell_type": "code",
      "metadata": {
        "colab": {
          "base_uri": "https://localhost:8080/"
        },
        "id": "oUDhwLox7M9f",
        "outputId": "b5fef20d-81ef-4176-af1e-2ae9435b28c2"
      },
      "source": [
        "import nltk\n",
        "nltk.download('all')"
      ],
      "execution_count": 18,
      "outputs": [
        {
          "output_type": "stream",
          "name": "stdout",
          "text": [
            "[nltk_data] Downloading collection 'all'\n",
            "[nltk_data]    | \n",
            "[nltk_data]    | Downloading package abc to /root/nltk_data...\n",
            "[nltk_data]    |   Unzipping corpora/abc.zip.\n",
            "[nltk_data]    | Downloading package alpino to /root/nltk_data...\n",
            "[nltk_data]    |   Unzipping corpora/alpino.zip.\n",
            "[nltk_data]    | Downloading package biocreative_ppi to\n",
            "[nltk_data]    |     /root/nltk_data...\n",
            "[nltk_data]    |   Unzipping corpora/biocreative_ppi.zip.\n",
            "[nltk_data]    | Downloading package brown to /root/nltk_data...\n",
            "[nltk_data]    |   Unzipping corpora/brown.zip.\n",
            "[nltk_data]    | Downloading package brown_tei to /root/nltk_data...\n",
            "[nltk_data]    |   Unzipping corpora/brown_tei.zip.\n",
            "[nltk_data]    | Downloading package cess_cat to /root/nltk_data...\n",
            "[nltk_data]    |   Unzipping corpora/cess_cat.zip.\n",
            "[nltk_data]    | Downloading package cess_esp to /root/nltk_data...\n",
            "[nltk_data]    |   Unzipping corpora/cess_esp.zip.\n",
            "[nltk_data]    | Downloading package chat80 to /root/nltk_data...\n",
            "[nltk_data]    |   Unzipping corpora/chat80.zip.\n",
            "[nltk_data]    | Downloading package city_database to\n",
            "[nltk_data]    |     /root/nltk_data...\n",
            "[nltk_data]    |   Unzipping corpora/city_database.zip.\n",
            "[nltk_data]    | Downloading package cmudict to /root/nltk_data...\n",
            "[nltk_data]    |   Unzipping corpora/cmudict.zip.\n",
            "[nltk_data]    | Downloading package comparative_sentences to\n",
            "[nltk_data]    |     /root/nltk_data...\n",
            "[nltk_data]    |   Unzipping corpora/comparative_sentences.zip.\n",
            "[nltk_data]    | Downloading package comtrans to /root/nltk_data...\n",
            "[nltk_data]    | Downloading package conll2000 to /root/nltk_data...\n",
            "[nltk_data]    |   Unzipping corpora/conll2000.zip.\n",
            "[nltk_data]    | Downloading package conll2002 to /root/nltk_data...\n",
            "[nltk_data]    |   Unzipping corpora/conll2002.zip.\n",
            "[nltk_data]    | Downloading package conll2007 to /root/nltk_data...\n",
            "[nltk_data]    | Downloading package crubadan to /root/nltk_data...\n",
            "[nltk_data]    |   Unzipping corpora/crubadan.zip.\n",
            "[nltk_data]    | Downloading package dependency_treebank to\n",
            "[nltk_data]    |     /root/nltk_data...\n",
            "[nltk_data]    |   Unzipping corpora/dependency_treebank.zip.\n",
            "[nltk_data]    | Downloading package dolch to /root/nltk_data...\n",
            "[nltk_data]    |   Unzipping corpora/dolch.zip.\n",
            "[nltk_data]    | Downloading package europarl_raw to\n",
            "[nltk_data]    |     /root/nltk_data...\n",
            "[nltk_data]    |   Unzipping corpora/europarl_raw.zip.\n",
            "[nltk_data]    | Downloading package floresta to /root/nltk_data...\n",
            "[nltk_data]    |   Unzipping corpora/floresta.zip.\n",
            "[nltk_data]    | Downloading package framenet_v15 to\n",
            "[nltk_data]    |     /root/nltk_data...\n",
            "[nltk_data]    |   Unzipping corpora/framenet_v15.zip.\n",
            "[nltk_data]    | Downloading package framenet_v17 to\n",
            "[nltk_data]    |     /root/nltk_data...\n",
            "[nltk_data]    |   Unzipping corpora/framenet_v17.zip.\n",
            "[nltk_data]    | Downloading package gazetteers to /root/nltk_data...\n",
            "[nltk_data]    |   Unzipping corpora/gazetteers.zip.\n",
            "[nltk_data]    | Downloading package genesis to /root/nltk_data...\n",
            "[nltk_data]    |   Unzipping corpora/genesis.zip.\n",
            "[nltk_data]    | Downloading package gutenberg to /root/nltk_data...\n",
            "[nltk_data]    |   Unzipping corpora/gutenberg.zip.\n",
            "[nltk_data]    | Downloading package ieer to /root/nltk_data...\n",
            "[nltk_data]    |   Unzipping corpora/ieer.zip.\n",
            "[nltk_data]    | Downloading package inaugural to /root/nltk_data...\n",
            "[nltk_data]    |   Unzipping corpora/inaugural.zip.\n",
            "[nltk_data]    | Downloading package indian to /root/nltk_data...\n",
            "[nltk_data]    |   Unzipping corpora/indian.zip.\n",
            "[nltk_data]    | Downloading package jeita to /root/nltk_data...\n",
            "[nltk_data]    | Downloading package kimmo to /root/nltk_data...\n",
            "[nltk_data]    |   Unzipping corpora/kimmo.zip.\n",
            "[nltk_data]    | Downloading package knbc to /root/nltk_data...\n",
            "[nltk_data]    | Downloading package lin_thesaurus to\n",
            "[nltk_data]    |     /root/nltk_data...\n",
            "[nltk_data]    |   Unzipping corpora/lin_thesaurus.zip.\n",
            "[nltk_data]    | Downloading package mac_morpho to /root/nltk_data...\n",
            "[nltk_data]    |   Unzipping corpora/mac_morpho.zip.\n",
            "[nltk_data]    | Downloading package machado to /root/nltk_data...\n",
            "[nltk_data]    | Downloading package masc_tagged to /root/nltk_data...\n",
            "[nltk_data]    | Downloading package moses_sample to\n",
            "[nltk_data]    |     /root/nltk_data...\n",
            "[nltk_data]    |   Unzipping models/moses_sample.zip.\n",
            "[nltk_data]    | Downloading package movie_reviews to\n",
            "[nltk_data]    |     /root/nltk_data...\n",
            "[nltk_data]    |   Unzipping corpora/movie_reviews.zip.\n",
            "[nltk_data]    | Downloading package names to /root/nltk_data...\n",
            "[nltk_data]    |   Unzipping corpora/names.zip.\n",
            "[nltk_data]    | Downloading package nombank.1.0 to /root/nltk_data...\n",
            "[nltk_data]    | Downloading package nps_chat to /root/nltk_data...\n",
            "[nltk_data]    |   Unzipping corpora/nps_chat.zip.\n",
            "[nltk_data]    | Downloading package omw to /root/nltk_data...\n",
            "[nltk_data]    |   Unzipping corpora/omw.zip.\n",
            "[nltk_data]    | Downloading package opinion_lexicon to\n",
            "[nltk_data]    |     /root/nltk_data...\n",
            "[nltk_data]    |   Unzipping corpora/opinion_lexicon.zip.\n",
            "[nltk_data]    | Downloading package paradigms to /root/nltk_data...\n",
            "[nltk_data]    |   Unzipping corpora/paradigms.zip.\n",
            "[nltk_data]    | Downloading package pil to /root/nltk_data...\n",
            "[nltk_data]    |   Unzipping corpora/pil.zip.\n",
            "[nltk_data]    | Downloading package pl196x to /root/nltk_data...\n",
            "[nltk_data]    |   Unzipping corpora/pl196x.zip.\n",
            "[nltk_data]    | Downloading package ppattach to /root/nltk_data...\n",
            "[nltk_data]    |   Unzipping corpora/ppattach.zip.\n",
            "[nltk_data]    | Downloading package problem_reports to\n",
            "[nltk_data]    |     /root/nltk_data...\n",
            "[nltk_data]    |   Unzipping corpora/problem_reports.zip.\n",
            "[nltk_data]    | Downloading package propbank to /root/nltk_data...\n",
            "[nltk_data]    | Downloading package ptb to /root/nltk_data...\n",
            "[nltk_data]    |   Unzipping corpora/ptb.zip.\n",
            "[nltk_data]    | Downloading package product_reviews_1 to\n",
            "[nltk_data]    |     /root/nltk_data...\n",
            "[nltk_data]    |   Unzipping corpora/product_reviews_1.zip.\n",
            "[nltk_data]    | Downloading package product_reviews_2 to\n",
            "[nltk_data]    |     /root/nltk_data...\n",
            "[nltk_data]    |   Unzipping corpora/product_reviews_2.zip.\n",
            "[nltk_data]    | Downloading package pros_cons to /root/nltk_data...\n",
            "[nltk_data]    |   Unzipping corpora/pros_cons.zip.\n",
            "[nltk_data]    | Downloading package qc to /root/nltk_data...\n",
            "[nltk_data]    |   Unzipping corpora/qc.zip.\n",
            "[nltk_data]    | Downloading package reuters to /root/nltk_data...\n",
            "[nltk_data]    | Downloading package rte to /root/nltk_data...\n",
            "[nltk_data]    |   Unzipping corpora/rte.zip.\n",
            "[nltk_data]    | Downloading package semcor to /root/nltk_data...\n",
            "[nltk_data]    | Downloading package senseval to /root/nltk_data...\n",
            "[nltk_data]    |   Unzipping corpora/senseval.zip.\n",
            "[nltk_data]    | Downloading package sentiwordnet to\n",
            "[nltk_data]    |     /root/nltk_data...\n",
            "[nltk_data]    |   Unzipping corpora/sentiwordnet.zip.\n",
            "[nltk_data]    | Downloading package sentence_polarity to\n",
            "[nltk_data]    |     /root/nltk_data...\n",
            "[nltk_data]    |   Unzipping corpora/sentence_polarity.zip.\n",
            "[nltk_data]    | Downloading package shakespeare to /root/nltk_data...\n",
            "[nltk_data]    |   Unzipping corpora/shakespeare.zip.\n",
            "[nltk_data]    | Downloading package sinica_treebank to\n",
            "[nltk_data]    |     /root/nltk_data...\n",
            "[nltk_data]    |   Unzipping corpora/sinica_treebank.zip.\n",
            "[nltk_data]    | Downloading package smultron to /root/nltk_data...\n",
            "[nltk_data]    |   Unzipping corpora/smultron.zip.\n",
            "[nltk_data]    | Downloading package state_union to /root/nltk_data...\n",
            "[nltk_data]    |   Unzipping corpora/state_union.zip.\n",
            "[nltk_data]    | Downloading package stopwords to /root/nltk_data...\n",
            "[nltk_data]    |   Unzipping corpora/stopwords.zip.\n",
            "[nltk_data]    | Downloading package subjectivity to\n",
            "[nltk_data]    |     /root/nltk_data...\n",
            "[nltk_data]    |   Unzipping corpora/subjectivity.zip.\n",
            "[nltk_data]    | Downloading package swadesh to /root/nltk_data...\n",
            "[nltk_data]    |   Unzipping corpora/swadesh.zip.\n",
            "[nltk_data]    | Downloading package switchboard to /root/nltk_data...\n",
            "[nltk_data]    |   Unzipping corpora/switchboard.zip.\n",
            "[nltk_data]    | Downloading package timit to /root/nltk_data...\n",
            "[nltk_data]    |   Unzipping corpora/timit.zip.\n",
            "[nltk_data]    | Downloading package toolbox to /root/nltk_data...\n",
            "[nltk_data]    |   Unzipping corpora/toolbox.zip.\n",
            "[nltk_data]    | Downloading package treebank to /root/nltk_data...\n",
            "[nltk_data]    |   Unzipping corpora/treebank.zip.\n",
            "[nltk_data]    | Downloading package twitter_samples to\n",
            "[nltk_data]    |     /root/nltk_data...\n",
            "[nltk_data]    |   Unzipping corpora/twitter_samples.zip.\n",
            "[nltk_data]    | Downloading package udhr to /root/nltk_data...\n",
            "[nltk_data]    |   Unzipping corpora/udhr.zip.\n",
            "[nltk_data]    | Downloading package udhr2 to /root/nltk_data...\n",
            "[nltk_data]    |   Unzipping corpora/udhr2.zip.\n",
            "[nltk_data]    | Downloading package unicode_samples to\n",
            "[nltk_data]    |     /root/nltk_data...\n",
            "[nltk_data]    |   Unzipping corpora/unicode_samples.zip.\n",
            "[nltk_data]    | Downloading package universal_treebanks_v20 to\n",
            "[nltk_data]    |     /root/nltk_data...\n",
            "[nltk_data]    | Downloading package verbnet to /root/nltk_data...\n",
            "[nltk_data]    |   Unzipping corpora/verbnet.zip.\n",
            "[nltk_data]    | Downloading package verbnet3 to /root/nltk_data...\n",
            "[nltk_data]    |   Unzipping corpora/verbnet3.zip.\n",
            "[nltk_data]    | Downloading package webtext to /root/nltk_data...\n",
            "[nltk_data]    |   Unzipping corpora/webtext.zip.\n",
            "[nltk_data]    | Downloading package wordnet to /root/nltk_data...\n",
            "[nltk_data]    |   Unzipping corpora/wordnet.zip.\n",
            "[nltk_data]    | Downloading package wordnet_ic to /root/nltk_data...\n",
            "[nltk_data]    |   Unzipping corpora/wordnet_ic.zip.\n",
            "[nltk_data]    | Downloading package words to /root/nltk_data...\n",
            "[nltk_data]    |   Unzipping corpora/words.zip.\n",
            "[nltk_data]    | Downloading package ycoe to /root/nltk_data...\n",
            "[nltk_data]    |   Unzipping corpora/ycoe.zip.\n",
            "[nltk_data]    | Downloading package rslp to /root/nltk_data...\n",
            "[nltk_data]    |   Unzipping stemmers/rslp.zip.\n",
            "[nltk_data]    | Downloading package maxent_treebank_pos_tagger to\n",
            "[nltk_data]    |     /root/nltk_data...\n",
            "[nltk_data]    |   Unzipping taggers/maxent_treebank_pos_tagger.zip.\n",
            "[nltk_data]    | Downloading package universal_tagset to\n",
            "[nltk_data]    |     /root/nltk_data...\n",
            "[nltk_data]    |   Unzipping taggers/universal_tagset.zip.\n",
            "[nltk_data]    | Downloading package maxent_ne_chunker to\n",
            "[nltk_data]    |     /root/nltk_data...\n",
            "[nltk_data]    |   Unzipping chunkers/maxent_ne_chunker.zip.\n",
            "[nltk_data]    | Downloading package punkt to /root/nltk_data...\n",
            "[nltk_data]    |   Unzipping tokenizers/punkt.zip.\n",
            "[nltk_data]    | Downloading package book_grammars to\n",
            "[nltk_data]    |     /root/nltk_data...\n",
            "[nltk_data]    |   Unzipping grammars/book_grammars.zip.\n",
            "[nltk_data]    | Downloading package sample_grammars to\n",
            "[nltk_data]    |     /root/nltk_data...\n",
            "[nltk_data]    |   Unzipping grammars/sample_grammars.zip.\n",
            "[nltk_data]    | Downloading package spanish_grammars to\n",
            "[nltk_data]    |     /root/nltk_data...\n",
            "[nltk_data]    |   Unzipping grammars/spanish_grammars.zip.\n",
            "[nltk_data]    | Downloading package basque_grammars to\n",
            "[nltk_data]    |     /root/nltk_data...\n",
            "[nltk_data]    |   Unzipping grammars/basque_grammars.zip.\n",
            "[nltk_data]    | Downloading package large_grammars to\n",
            "[nltk_data]    |     /root/nltk_data...\n",
            "[nltk_data]    |   Unzipping grammars/large_grammars.zip.\n",
            "[nltk_data]    | Downloading package tagsets to /root/nltk_data...\n",
            "[nltk_data]    |   Unzipping help/tagsets.zip.\n",
            "[nltk_data]    | Downloading package snowball_data to\n",
            "[nltk_data]    |     /root/nltk_data...\n",
            "[nltk_data]    | Downloading package bllip_wsj_no_aux to\n",
            "[nltk_data]    |     /root/nltk_data...\n",
            "[nltk_data]    |   Unzipping models/bllip_wsj_no_aux.zip.\n",
            "[nltk_data]    | Downloading package word2vec_sample to\n",
            "[nltk_data]    |     /root/nltk_data...\n",
            "[nltk_data]    |   Unzipping models/word2vec_sample.zip.\n",
            "[nltk_data]    | Downloading package panlex_swadesh to\n",
            "[nltk_data]    |     /root/nltk_data...\n",
            "[nltk_data]    | Downloading package mte_teip5 to /root/nltk_data...\n",
            "[nltk_data]    |   Unzipping corpora/mte_teip5.zip.\n",
            "[nltk_data]    | Downloading package averaged_perceptron_tagger to\n",
            "[nltk_data]    |     /root/nltk_data...\n",
            "[nltk_data]    |   Unzipping taggers/averaged_perceptron_tagger.zip.\n",
            "[nltk_data]    | Downloading package averaged_perceptron_tagger_ru to\n",
            "[nltk_data]    |     /root/nltk_data...\n",
            "[nltk_data]    |   Unzipping\n",
            "[nltk_data]    |       taggers/averaged_perceptron_tagger_ru.zip.\n",
            "[nltk_data]    | Downloading package perluniprops to\n",
            "[nltk_data]    |     /root/nltk_data...\n",
            "[nltk_data]    |   Unzipping misc/perluniprops.zip.\n",
            "[nltk_data]    | Downloading package nonbreaking_prefixes to\n",
            "[nltk_data]    |     /root/nltk_data...\n",
            "[nltk_data]    |   Unzipping corpora/nonbreaking_prefixes.zip.\n",
            "[nltk_data]    | Downloading package vader_lexicon to\n",
            "[nltk_data]    |     /root/nltk_data...\n",
            "[nltk_data]    | Downloading package porter_test to /root/nltk_data...\n",
            "[nltk_data]    |   Unzipping stemmers/porter_test.zip.\n",
            "[nltk_data]    | Downloading package wmt15_eval to /root/nltk_data...\n",
            "[nltk_data]    |   Unzipping models/wmt15_eval.zip.\n",
            "[nltk_data]    | Downloading package mwa_ppdb to /root/nltk_data...\n",
            "[nltk_data]    |   Unzipping misc/mwa_ppdb.zip.\n",
            "[nltk_data]    | \n",
            "[nltk_data]  Done downloading collection all\n"
          ]
        },
        {
          "output_type": "execute_result",
          "data": {
            "text/plain": [
              "True"
            ]
          },
          "metadata": {},
          "execution_count": 18
        }
      ]
    },
    {
      "cell_type": "code",
      "metadata": {
        "execution": {
          "iopub.execute_input": "2021-09-06T12:45:35.693571Z",
          "iopub.status.busy": "2021-09-06T12:45:35.693252Z",
          "iopub.status.idle": "2021-09-06T12:45:45.322590Z",
          "shell.execute_reply": "2021-09-06T12:45:45.321276Z",
          "shell.execute_reply.started": "2021-09-06T12:45:35.693534Z"
        },
        "id": "lq5-galI272k",
        "colab": {
          "base_uri": "https://localhost:8080/"
        },
        "outputId": "776a1e13-f53e-45ff-a91c-13947fb6f5b1"
      },
      "source": [
        "!wget --header=\"Host: dl.fbaipublicfiles.com\" --header=\"User-Agent: Mozilla/5.0 (Windows NT 10.0; Win64; x64) AppleWebKit/537.36 (KHTML, like Gecko) Chrome/92.0.4515.159 Safari/537.36\" --header=\"Accept: text/html,application/xhtml+xml,application/xml;q=0.9,image/avif,image/webp,image/apng,*/*;q=0.8,application/signed-exchange;v=b3;q=0.9\" --header=\"Accept-Language: en-US,en;q=0.9\" --header=\"Referer: https://fasttext.cc/\" \"https://dl.fbaipublicfiles.com/fasttext/vectors-english/wiki-news-300d-1M.vec.zip\" -c -O 'wiki-news-300d-1M.vec.zip'"
      ],
      "execution_count": 5,
      "outputs": [
        {
          "output_type": "stream",
          "name": "stdout",
          "text": [
            "--2021-09-07 19:36:26--  https://dl.fbaipublicfiles.com/fasttext/vectors-english/wiki-news-300d-1M.vec.zip\n",
            "Resolving dl.fbaipublicfiles.com (dl.fbaipublicfiles.com)... 172.67.9.4, 104.22.74.142, 104.22.75.142, ...\n",
            "Connecting to dl.fbaipublicfiles.com (dl.fbaipublicfiles.com)|172.67.9.4|:443... connected.\n",
            "HTTP request sent, awaiting response... 200 OK\n",
            "Length: 681808098 (650M) [application/zip]\n",
            "Saving to: ‘wiki-news-300d-1M.vec.zip’\n",
            "\n",
            "wiki-news-300d-1M.v 100%[===================>] 650.22M  20.5MB/s    in 32s     \n",
            "\n",
            "2021-09-07 19:36:59 (20.1 MB/s) - ‘wiki-news-300d-1M.vec.zip’ saved [681808098/681808098]\n",
            "\n"
          ]
        }
      ]
    },
    {
      "cell_type": "code",
      "metadata": {
        "execution": {
          "iopub.execute_input": "2021-09-06T12:45:45.324857Z",
          "iopub.status.busy": "2021-09-06T12:45:45.324572Z",
          "iopub.status.idle": "2021-09-06T12:46:07.040800Z",
          "shell.execute_reply": "2021-09-06T12:46:07.039168Z",
          "shell.execute_reply.started": "2021-09-06T12:45:45.324825Z"
        },
        "id": "GUI95VWH272m",
        "colab": {
          "base_uri": "https://localhost:8080/"
        },
        "outputId": "838c0c0a-dbc3-432f-ce06-2903834c7fbc"
      },
      "source": [
        "!unzip ./wiki-news-300d-1M.vec.zip"
      ],
      "execution_count": 6,
      "outputs": [
        {
          "output_type": "stream",
          "name": "stdout",
          "text": [
            "Archive:  ./wiki-news-300d-1M.vec.zip\n",
            "  inflating: wiki-news-300d-1M.vec   \n"
          ]
        }
      ]
    },
    {
      "cell_type": "code",
      "metadata": {
        "execution": {
          "iopub.execute_input": "2021-09-06T12:50:13.947238Z",
          "iopub.status.busy": "2021-09-06T12:50:13.946799Z",
          "iopub.status.idle": "2021-09-06T12:50:13.954323Z",
          "shell.execute_reply": "2021-09-06T12:50:13.952935Z",
          "shell.execute_reply.started": "2021-09-06T12:50:13.947204Z"
        },
        "id": "FCQzaecJ272n"
      },
      "source": [
        "import nlpaug.augmenter.word as naw\n",
        "from tqdm import tqdm\n",
        "#Reference is taken from https://github.com/makcedward/nlpaug/blob/master/example/textual_augmenter.ipynb\n",
        "def spelling_augmentation(data):\n",
        "    normal_text = list(data[\"normal_text\"].values)\n",
        "    aug_text = []\n",
        "    aug = naw.SpellingAug()\n",
        "    for sentence in tqdm(normal_text):\n",
        "        aug_text.append(aug.augment(sentence))    \n",
        "    return normal_text, aug_text"
      ],
      "execution_count": 13,
      "outputs": []
    },
    {
      "cell_type": "code",
      "metadata": {
        "execution": {
          "iopub.execute_input": "2021-09-06T12:50:14.222299Z",
          "iopub.status.busy": "2021-09-06T12:50:14.221931Z",
          "iopub.status.idle": "2021-09-06T12:50:14.230880Z",
          "shell.execute_reply": "2021-09-06T12:50:14.229616Z",
          "shell.execute_reply.started": "2021-09-06T12:50:14.222270Z"
        },
        "id": "5WG1F0uo272p"
      },
      "source": [
        "#Reference is taken from https://github.com/makcedward/nlpaug/blob/master/example/textual_augmenter.ipynb\n",
        "def word_augmentation(data):\n",
        "    normal_text = list(data[\"normal_text\"].values)\n",
        "    aug_text = []\n",
        "    aug = naw.WordEmbsAug(model_type='fasttext', model_path='/content/wiki-news-300d-1M.vec',action=\"substitute\")\n",
        "    for sentence in tqdm(normal_text):\n",
        "        aug_text.append(aug.augment(sentence)) \n",
        "    return  normal_text,aug_text"
      ],
      "execution_count": 14,
      "outputs": []
    },
    {
      "cell_type": "code",
      "metadata": {
        "execution": {
          "iopub.execute_input": "2021-09-06T12:50:14.523552Z",
          "iopub.status.busy": "2021-09-06T12:50:14.523165Z",
          "iopub.status.idle": "2021-09-06T12:50:14.529827Z",
          "shell.execute_reply": "2021-09-06T12:50:14.528141Z",
          "shell.execute_reply.started": "2021-09-06T12:50:14.523520Z"
        },
        "id": "R0mDZdwV272q"
      },
      "source": [
        "#Reference is taken from https://github.com/makcedward/nlpaug/blob/master/example/textual_augmenter.ipynb\n",
        "def syn_augmentation(data):\n",
        "    normal_text = list(data[\"normal_text\"].values)\n",
        "    aug_text = []\n",
        "    aug = naw.SynonymAug()\n",
        "    for sentence in tqdm(normal_text):\n",
        "        aug_text.append(aug.augment(sentence))    \n",
        "    return normal_text, aug_text"
      ],
      "execution_count": 15,
      "outputs": []
    },
    {
      "cell_type": "code",
      "metadata": {
        "execution": {
          "iopub.execute_input": "2021-09-06T12:50:16.126616Z",
          "iopub.status.busy": "2021-09-06T12:50:16.126200Z",
          "iopub.status.idle": "2021-09-06T13:24:08.169294Z",
          "shell.execute_reply": "2021-09-06T13:24:08.167955Z",
          "shell.execute_reply.started": "2021-09-06T12:50:16.126583Z"
        },
        "id": "oI12mQZr272q",
        "colab": {
          "base_uri": "https://localhost:8080/"
        },
        "outputId": "cfd89a2d-e1c1-4ea6-ab0d-e4611622cc30"
      },
      "source": [
        "normal_text, aug_text=spelling_augmentation(dataframe)\n",
        "df_1 = pd.DataFrame({\"informal_text\":aug_text,\"normal_text\":normal_text})\n",
        "\n",
        "normal_text, aug_text=word_augmentation(dataframe)\n",
        "df_2 = pd.DataFrame({\"informal_text\":aug_text,\"normal_text\":normal_text})\n",
        "\n",
        "data1 = pd.concat([df_1,df_2])"
      ],
      "execution_count": 16,
      "outputs": [
        {
          "output_type": "stream",
          "name": "stderr",
          "text": [
            "100%|██████████| 2000/2000 [00:00<00:00, 4762.92it/s]\n",
            "100%|██████████| 2000/2000 [39:08<00:00,  1.17s/it]\n"
          ]
        }
      ]
    },
    {
      "cell_type": "code",
      "metadata": {
        "execution": {
          "iopub.execute_input": "2021-09-06T13:24:08.172526Z",
          "iopub.status.busy": "2021-09-06T13:24:08.171780Z",
          "iopub.status.idle": "2021-09-06T13:24:23.881690Z",
          "shell.execute_reply": "2021-09-06T13:24:23.880236Z",
          "shell.execute_reply.started": "2021-09-06T13:24:08.172476Z"
        },
        "colab": {
          "base_uri": "https://localhost:8080/"
        },
        "id": "55Bxf5LKwx2G",
        "outputId": "e14a8a3a-89d6-47d6-982d-7011f3ed6cfc"
      },
      "source": [
        "data2=pd.concat([dataframe,data1])\n",
        "normal_text, aug_text=syn_augmentation(data2)\n",
        "df_3 = pd.DataFrame({\"informal_text\":aug_text,\"normal_text\":normal_text}) \n",
        "\n",
        "augmented_data = pd.concat([df_3,data2])\n",
        "augmented_data.reset_index(inplace=True,drop=True)"
      ],
      "execution_count": 19,
      "outputs": [
        {
          "output_type": "stream",
          "name": "stderr",
          "text": [
            "100%|██████████| 6000/6000 [00:13<00:00, 460.47it/s]\n"
          ]
        }
      ]
    },
    {
      "cell_type": "code",
      "metadata": {
        "execution": {
          "iopub.execute_input": "2021-09-06T13:24:23.884951Z",
          "iopub.status.busy": "2021-09-06T13:24:23.884483Z",
          "iopub.status.idle": "2021-09-06T13:24:23.892477Z",
          "shell.execute_reply": "2021-09-06T13:24:23.891470Z",
          "shell.execute_reply.started": "2021-09-06T13:24:23.884898Z"
        },
        "id": "SaczZ1ne272r",
        "colab": {
          "base_uri": "https://localhost:8080/"
        },
        "outputId": "7f790922-38af-4a3b-e89f-d0bdcce9962f"
      },
      "source": [
        "augmented_data.shape"
      ],
      "execution_count": 20,
      "outputs": [
        {
          "output_type": "execute_result",
          "data": {
            "text/plain": [
              "(12000, 2)"
            ]
          },
          "metadata": {},
          "execution_count": 20
        }
      ]
    },
    {
      "cell_type": "code",
      "metadata": {
        "execution": {
          "iopub.execute_input": "2021-09-06T13:24:23.894679Z",
          "iopub.status.busy": "2021-09-06T13:24:23.894373Z",
          "iopub.status.idle": "2021-09-06T13:24:23.922667Z",
          "shell.execute_reply": "2021-09-06T13:24:23.921331Z",
          "shell.execute_reply.started": "2021-09-06T13:24:23.894647Z"
        },
        "id": "cxNcTA2P272s",
        "colab": {
          "base_uri": "https://localhost:8080/",
          "height": 263
        },
        "outputId": "604b1d68-1d19-4214-9ca1-d60506bc2e40"
      },
      "source": [
        "augmented_data.iloc[[0,2000,4000,6000,8000,10000,11999]]"
      ],
      "execution_count": 21,
      "outputs": [
        {
          "output_type": "execute_result",
          "data": {
            "text/html": [
              "<div>\n",
              "<style scoped>\n",
              "    .dataframe tbody tr th:only-of-type {\n",
              "        vertical-align: middle;\n",
              "    }\n",
              "\n",
              "    .dataframe tbody tr th {\n",
              "        vertical-align: top;\n",
              "    }\n",
              "\n",
              "    .dataframe thead th {\n",
              "        text-align: right;\n",
              "    }\n",
              "</style>\n",
              "<table border=\"1\" class=\"dataframe\">\n",
              "  <thead>\n",
              "    <tr style=\"text-align: right;\">\n",
              "      <th></th>\n",
              "      <th>informal_text</th>\n",
              "      <th>normal_text</th>\n",
              "    </tr>\n",
              "  </thead>\n",
              "  <tbody>\n",
              "    <tr>\n",
              "      <th>0</th>\n",
              "      <td>Do you want me to hold seat for you operating ...</td>\n",
              "      <td>Do you want me to reserve seat for you or not?</td>\n",
              "    </tr>\n",
              "    <tr>\n",
              "      <th>2000</th>\n",
              "      <td>Do you require me to reserve backside for you ...</td>\n",
              "      <td>Do you want me to reserve seat for you or not?</td>\n",
              "    </tr>\n",
              "    <tr>\n",
              "      <th>4000</th>\n",
              "      <td>Do you want me to appropriate seat for you or ...</td>\n",
              "      <td>Do you want me to reserve seat for you or not?</td>\n",
              "    </tr>\n",
              "    <tr>\n",
              "      <th>6000</th>\n",
              "      <td>U wan me to \"chop\" seat 4 u nt?</td>\n",
              "      <td>Do you want me to reserve seat for you or not?</td>\n",
              "    </tr>\n",
              "    <tr>\n",
              "      <th>8000</th>\n",
              "      <td>Do wou want be to reserve seat for you ou not?</td>\n",
              "      <td>Do you want me to reserve seat for you or not?</td>\n",
              "    </tr>\n",
              "    <tr>\n",
              "      <th>10000</th>\n",
              "      <td>Do you chose me to reserve votes for you there...</td>\n",
              "      <td>Do you want me to reserve seat for you or not?</td>\n",
              "    </tr>\n",
              "    <tr>\n",
              "      <th>11999</th>\n",
              "      <td>I bring for you. I can completely promiser you...</td>\n",
              "      <td>I bring for you. I can not promise you 100% to...</td>\n",
              "    </tr>\n",
              "  </tbody>\n",
              "</table>\n",
              "</div>"
            ],
            "text/plain": [
              "                                           informal_text                                        normal_text\n",
              "0      Do you want me to hold seat for you operating ...     Do you want me to reserve seat for you or not?\n",
              "2000   Do you require me to reserve backside for you ...     Do you want me to reserve seat for you or not?\n",
              "4000   Do you want me to appropriate seat for you or ...     Do you want me to reserve seat for you or not?\n",
              "6000                     U wan me to \"chop\" seat 4 u nt?     Do you want me to reserve seat for you or not?\n",
              "8000      Do wou want be to reserve seat for you ou not?     Do you want me to reserve seat for you or not?\n",
              "10000  Do you chose me to reserve votes for you there...     Do you want me to reserve seat for you or not?\n",
              "11999  I bring for you. I can completely promiser you...  I bring for you. I can not promise you 100% to..."
            ]
          },
          "metadata": {},
          "execution_count": 21
        }
      ]
    },
    {
      "cell_type": "code",
      "metadata": {
        "execution": {
          "iopub.execute_input": "2021-09-06T13:27:29.325869Z",
          "iopub.status.busy": "2021-09-06T13:27:29.325455Z",
          "iopub.status.idle": "2021-09-06T13:27:29.353393Z",
          "shell.execute_reply": "2021-09-06T13:27:29.352273Z",
          "shell.execute_reply.started": "2021-09-06T13:27:29.325835Z"
        },
        "id": "5lUdS_u1272s"
      },
      "source": [
        "augmented_data['informal_text_inp'] = '<' + augmented_data['informal_text'].astype(str)+ '>'\n",
        "augmented_data['normal_text_inp'] = '<' + augmented_data['normal_text'].astype(str)\n",
        "augmented_data['normal_text_out'] = augmented_data['normal_text'].astype(str) + '>'"
      ],
      "execution_count": 22,
      "outputs": []
    },
    {
      "cell_type": "code",
      "metadata": {
        "execution": {
          "iopub.execute_input": "2021-09-06T13:27:29.680812Z",
          "iopub.status.busy": "2021-09-06T13:27:29.680415Z",
          "iopub.status.idle": "2021-09-06T13:27:29.700556Z",
          "shell.execute_reply": "2021-09-06T13:27:29.699701Z",
          "shell.execute_reply.started": "2021-09-06T13:27:29.680779Z"
        },
        "id": "jEnFglfq272t",
        "colab": {
          "base_uri": "https://localhost:8080/",
          "height": 202
        },
        "outputId": "65ab0618-597c-4ef5-f219-3b09a58c9f83"
      },
      "source": [
        "augmented_data = augmented_data.drop(['normal_text','informal_text'], axis=1)\n",
        "augmented_data.head()"
      ],
      "execution_count": 23,
      "outputs": [
        {
          "output_type": "execute_result",
          "data": {
            "text/html": [
              "<div>\n",
              "<style scoped>\n",
              "    .dataframe tbody tr th:only-of-type {\n",
              "        vertical-align: middle;\n",
              "    }\n",
              "\n",
              "    .dataframe tbody tr th {\n",
              "        vertical-align: top;\n",
              "    }\n",
              "\n",
              "    .dataframe thead th {\n",
              "        text-align: right;\n",
              "    }\n",
              "</style>\n",
              "<table border=\"1\" class=\"dataframe\">\n",
              "  <thead>\n",
              "    <tr style=\"text-align: right;\">\n",
              "      <th></th>\n",
              "      <th>informal_text_inp</th>\n",
              "      <th>normal_text_inp</th>\n",
              "      <th>normal_text_out</th>\n",
              "    </tr>\n",
              "  </thead>\n",
              "  <tbody>\n",
              "    <tr>\n",
              "      <th>0</th>\n",
              "      <td>&lt;Do you want me to hold seat for you operating...</td>\n",
              "      <td>&lt;Do you want me to reserve seat for you or not?</td>\n",
              "      <td>Do you want me to reserve seat for you or not?&gt;</td>\n",
              "    </tr>\n",
              "    <tr>\n",
              "      <th>1</th>\n",
              "      <td>&lt;Yeap. You reaching? We ordered some Durian pa...</td>\n",
              "      <td>&lt;Yeap. You reaching? We ordered some Durian pa...</td>\n",
              "      <td>Yeap. You reaching? We ordered some Durian pas...</td>\n",
              "    </tr>\n",
              "    <tr>\n",
              "      <th>2</th>\n",
              "      <td>&lt;They turn more expensive already. Mine be com...</td>\n",
              "      <td>&lt;They become more expensive already. Mine is l...</td>\n",
              "      <td>They become more expensive already. Mine is li...</td>\n",
              "    </tr>\n",
              "    <tr>\n",
              "      <th>3</th>\n",
              "      <td>&lt;1 ' m Thai. What do you make?&gt;</td>\n",
              "      <td>&lt;I'm Thai. What do you do?</td>\n",
              "      <td>I'm Thai. What do you do?&gt;</td>\n",
              "    </tr>\n",
              "    <tr>\n",
              "      <th>4</th>\n",
              "      <td>&lt;How do you do! How did your week go? Haven ' ...</td>\n",
              "      <td>&lt;Hi! How did your week go? Haven't heard from ...</td>\n",
              "      <td>Hi! How did your week go? Haven't heard from y...</td>\n",
              "    </tr>\n",
              "  </tbody>\n",
              "</table>\n",
              "</div>"
            ],
            "text/plain": [
              "                                   informal_text_inp  ...                                    normal_text_out\n",
              "0  <Do you want me to hold seat for you operating...  ...    Do you want me to reserve seat for you or not?>\n",
              "1  <Yeap. You reaching? We ordered some Durian pa...  ...  Yeap. You reaching? We ordered some Durian pas...\n",
              "2  <They turn more expensive already. Mine be com...  ...  They become more expensive already. Mine is li...\n",
              "3                    <1 ' m Thai. What do you make?>  ...                         I'm Thai. What do you do?>\n",
              "4  <How do you do! How did your week go? Haven ' ...  ...  Hi! How did your week go? Haven't heard from y...\n",
              "\n",
              "[5 rows x 3 columns]"
            ]
          },
          "metadata": {},
          "execution_count": 23
        }
      ]
    },
    {
      "cell_type": "code",
      "metadata": {
        "execution": {
          "iopub.execute_input": "2021-09-06T13:27:34.302734Z",
          "iopub.status.busy": "2021-09-06T13:27:34.302225Z",
          "iopub.status.idle": "2021-09-06T13:27:34.308693Z",
          "shell.execute_reply": "2021-09-06T13:27:34.307442Z",
          "shell.execute_reply.started": "2021-09-06T13:27:34.302701Z"
        },
        "id": "WkmRm4nt272v",
        "colab": {
          "base_uri": "https://localhost:8080/"
        },
        "outputId": "b93de914-e754-4e27-e373-4f482324fe58"
      },
      "source": [
        "augmented_data.shape"
      ],
      "execution_count": 24,
      "outputs": [
        {
          "output_type": "execute_result",
          "data": {
            "text/plain": [
              "(12000, 3)"
            ]
          },
          "metadata": {},
          "execution_count": 24
        }
      ]
    },
    {
      "cell_type": "code",
      "metadata": {
        "execution": {
          "iopub.execute_input": "2021-09-06T13:27:51.866271Z",
          "iopub.status.busy": "2021-09-06T13:27:51.865804Z",
          "iopub.status.idle": "2021-09-06T13:27:52.034957Z",
          "shell.execute_reply": "2021-09-06T13:27:52.033928Z",
          "shell.execute_reply.started": "2021-09-06T13:27:51.866233Z"
        },
        "id": "yPOjYcYd272v",
        "colab": {
          "base_uri": "https://localhost:8080/",
          "height": 202
        },
        "outputId": "18f016f2-e269-42ac-9192-22a15a53a0df"
      },
      "source": [
        "# Filtering out sentences of length more than 200 for normal and 160 for informal which we found after doing EDA\n",
        "augmented_data = augmented_data[augmented_data['informal_text_inp'].str.split().apply(len) <= 160]\n",
        "augmented_data = augmented_data[augmented_data['normal_text_inp'].str.split().apply(len) <= 200]\n",
        "augmented_data = augmented_data[augmented_data['normal_text_out'].str.split().apply(len) <= 200]\n",
        "augmented_data.head()"
      ],
      "execution_count": 25,
      "outputs": [
        {
          "output_type": "execute_result",
          "data": {
            "text/html": [
              "<div>\n",
              "<style scoped>\n",
              "    .dataframe tbody tr th:only-of-type {\n",
              "        vertical-align: middle;\n",
              "    }\n",
              "\n",
              "    .dataframe tbody tr th {\n",
              "        vertical-align: top;\n",
              "    }\n",
              "\n",
              "    .dataframe thead th {\n",
              "        text-align: right;\n",
              "    }\n",
              "</style>\n",
              "<table border=\"1\" class=\"dataframe\">\n",
              "  <thead>\n",
              "    <tr style=\"text-align: right;\">\n",
              "      <th></th>\n",
              "      <th>informal_text_inp</th>\n",
              "      <th>normal_text_inp</th>\n",
              "      <th>normal_text_out</th>\n",
              "    </tr>\n",
              "  </thead>\n",
              "  <tbody>\n",
              "    <tr>\n",
              "      <th>0</th>\n",
              "      <td>&lt;Do you want me to hold seat for you operating...</td>\n",
              "      <td>&lt;Do you want me to reserve seat for you or not?</td>\n",
              "      <td>Do you want me to reserve seat for you or not?&gt;</td>\n",
              "    </tr>\n",
              "    <tr>\n",
              "      <th>1</th>\n",
              "      <td>&lt;Yeap. You reaching? We ordered some Durian pa...</td>\n",
              "      <td>&lt;Yeap. You reaching? We ordered some Durian pa...</td>\n",
              "      <td>Yeap. You reaching? We ordered some Durian pas...</td>\n",
              "    </tr>\n",
              "    <tr>\n",
              "      <th>2</th>\n",
              "      <td>&lt;They turn more expensive already. Mine be com...</td>\n",
              "      <td>&lt;They become more expensive already. Mine is l...</td>\n",
              "      <td>They become more expensive already. Mine is li...</td>\n",
              "    </tr>\n",
              "    <tr>\n",
              "      <th>3</th>\n",
              "      <td>&lt;1 ' m Thai. What do you make?&gt;</td>\n",
              "      <td>&lt;I'm Thai. What do you do?</td>\n",
              "      <td>I'm Thai. What do you do?&gt;</td>\n",
              "    </tr>\n",
              "    <tr>\n",
              "      <th>4</th>\n",
              "      <td>&lt;How do you do! How did your week go? Haven ' ...</td>\n",
              "      <td>&lt;Hi! How did your week go? Haven't heard from ...</td>\n",
              "      <td>Hi! How did your week go? Haven't heard from y...</td>\n",
              "    </tr>\n",
              "  </tbody>\n",
              "</table>\n",
              "</div>"
            ],
            "text/plain": [
              "                                   informal_text_inp  ...                                    normal_text_out\n",
              "0  <Do you want me to hold seat for you operating...  ...    Do you want me to reserve seat for you or not?>\n",
              "1  <Yeap. You reaching? We ordered some Durian pa...  ...  Yeap. You reaching? We ordered some Durian pas...\n",
              "2  <They turn more expensive already. Mine be com...  ...  They become more expensive already. Mine is li...\n",
              "3                    <1 ' m Thai. What do you make?>  ...                         I'm Thai. What do you do?>\n",
              "4  <How do you do! How did your week go? Haven ' ...  ...  Hi! How did your week go? Haven't heard from y...\n",
              "\n",
              "[5 rows x 3 columns]"
            ]
          },
          "metadata": {},
          "execution_count": 25
        }
      ]
    },
    {
      "cell_type": "code",
      "metadata": {
        "execution": {
          "iopub.execute_input": "2021-09-06T13:28:57.094733Z",
          "iopub.status.busy": "2021-09-06T13:28:57.094257Z",
          "iopub.status.idle": "2021-09-06T13:28:57.102486Z",
          "shell.execute_reply": "2021-09-06T13:28:57.101253Z",
          "shell.execute_reply.started": "2021-09-06T13:28:57.094697Z"
        },
        "colab": {
          "base_uri": "https://localhost:8080/"
        },
        "id": "8cOhzvpowx2K",
        "outputId": "8d3f38f6-a9c2-4247-b2ea-8970729f3bd3"
      },
      "source": [
        "augmented_data.shape"
      ],
      "execution_count": 26,
      "outputs": [
        {
          "output_type": "execute_result",
          "data": {
            "text/plain": [
              "(12000, 3)"
            ]
          },
          "metadata": {},
          "execution_count": 26
        }
      ]
    },
    {
      "cell_type": "code",
      "metadata": {
        "execution": {
          "iopub.execute_input": "2021-09-06T13:29:23.033455Z",
          "iopub.status.busy": "2021-09-06T13:29:23.033053Z",
          "iopub.status.idle": "2021-09-06T13:29:23.195213Z",
          "shell.execute_reply": "2021-09-06T13:29:23.193633Z",
          "shell.execute_reply.started": "2021-09-06T13:29:23.033421Z"
        },
        "id": "TuIUWt9-272w"
      },
      "source": [
        "\"\"\"Saving the data into the csv file for further steps\"\"\"\n",
        "augmented_data.to_csv(\"with_augmentation_2.csv\",index=False)"
      ],
      "execution_count": 27,
      "outputs": []
    }
  ]
}