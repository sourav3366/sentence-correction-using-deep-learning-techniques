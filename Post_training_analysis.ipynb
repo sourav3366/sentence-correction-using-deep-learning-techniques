{
 "cells": [
  {
   "cell_type": "markdown",
   "metadata": {
    "id": "dPG3wPdeBI70"
   },
   "source": [
    "## Importing important libraries"
   ]
  },
  {
   "cell_type": "code",
   "execution_count": 1,
   "metadata": {
    "id": "3T4sGTsrqS6w"
   },
   "outputs": [],
   "source": [
    "from tensorflow.keras.models import Model\n",
    "from tensorflow.keras.layers import Input,LSTM,Dense\n",
    "import numpy as np\n",
    "import pandas as pd\n",
    "import tensorflow as tf\n",
    "from sklearn.model_selection import train_test_split\n",
    "from tqdm import tqdm\n",
    "import datetime\n",
    "from tensorflow.keras.layers import Embedding, LSTM, Dense\n",
    "from tensorflow.keras.models import Model\n",
    "from tensorflow.keras.preprocessing.text import Tokenizer\n",
    "from tensorflow.keras.preprocessing.sequence import pad_sequences\n",
    "import joblib"
   ]
  },
  {
   "cell_type": "markdown",
   "metadata": {
    "id": "tu3Bo5k0BOr8"
   },
   "source": [
    "## Reading csv file"
   ]
  },
  {
   "cell_type": "code",
   "execution_count": 2,
   "metadata": {
    "id": "VVzksHduqWAk"
   },
   "outputs": [],
   "source": [
    "df=pd.read_csv('/content/with_augmentation_2.csv')"
   ]
  },
  {
   "cell_type": "markdown",
   "metadata": {
    "id": "yMcsb4XMBUHw"
   },
   "source": [
    "## Splitting the data into train and test"
   ]
  },
  {
   "cell_type": "code",
   "execution_count": 3,
   "metadata": {
    "colab": {
     "base_uri": "https://localhost:8080/"
    },
    "id": "L-b2jW0rqn-W",
    "outputId": "b7a2952f-2994-45fe-c46c-4a87826b1ffe"
   },
   "outputs": [
    {
     "name": "stdout",
     "output_type": "stream",
     "text": [
      "Shape of Training set: (10830, 3)\n",
      "Shape of Validation set: (600, 3)\n",
      "Shape of Test set: (570, 3)\n"
     ]
    }
   ],
   "source": [
    "train, validation = train_test_split(df, test_size=0.05, random_state = 859)\n",
    "train, test = train_test_split(train, test_size=0.05, random_state = 859)\n",
    "print(f\"Shape of Training set: {train.shape}\")\n",
    "print(f\"Shape of Validation set: {validation.shape}\")\n",
    "print(f\"Shape of Test set: {test.shape}\")"
   ]
  },
  {
   "cell_type": "code",
   "execution_count": 4,
   "metadata": {
    "id": "hlevwoIEqrEs"
   },
   "outputs": [],
   "source": [
    "train.iloc[0]['informal_text_inp']= str(train.iloc[0]['informal_text_inp'])+'>'\n",
    "train.iloc[0]['normal_text_inp']= str(train.iloc[0]['normal_text_inp'])+'>'"
   ]
  },
  {
   "cell_type": "markdown",
   "metadata": {
    "id": "zWySqTtkBY2O"
   },
   "source": [
    "## Creating tokens of characters"
   ]
  },
  {
   "cell_type": "code",
   "execution_count": 5,
   "metadata": {
    "id": "4kiQKyUUqrdC"
   },
   "outputs": [],
   "source": [
    "#refrence taken from https://www.tensorflow.org/api_docs/python/tf/keras/preprocessing/text/Tokenizer\n",
    "tknizer_informal = Tokenizer(filters = '\"#$%&()*+-/=@[\\\\]^_`{|}~\\t\\n', lower = False, char_level = True)\n",
    "tknizer_informal.fit_on_texts(train['informal_text_inp'].values)\n",
    "tknizer_normal = Tokenizer(filters = '\"#$%&()*+-/=@[\\\\]^_`{|}~\\t\\n', lower = False, char_level = True)\n",
    "tknizer_normal.fit_on_texts(train['normal_text_inp'].values)"
   ]
  },
  {
   "cell_type": "code",
   "execution_count": 6,
   "metadata": {
    "colab": {
     "base_uri": "https://localhost:8080/"
    },
    "id": "q_URZb-0qrgQ",
    "outputId": "3bb3a6a5-0367-4207-f551-f0be5b436a25"
   },
   "outputs": [
    {
     "name": "stdout",
     "output_type": "stream",
     "text": [
      "vocab size of informal texts are: 142\n",
      "vocab size of normal texts are: 92\n"
     ]
    }
   ],
   "source": [
    "#refrence taken from https://stackoverflow.com/questions/51956000/what-does-keras-tokenizer-method-exactly-do\n",
    "vocab_size_informal=len(tknizer_informal.word_index.keys())\n",
    "print('vocab size of informal texts are:',vocab_size_informal)\n",
    "vocab_size_normal=len(tknizer_normal.word_index.keys())\n",
    "print('vocab size of normal texts are:',vocab_size_normal)"
   ]
  },
  {
   "cell_type": "markdown",
   "metadata": {
    "id": "OsS9p6PJBdCs"
   },
   "source": [
    "## Defining loss function"
   ]
  },
  {
   "cell_type": "code",
   "execution_count": 7,
   "metadata": {
    "id": "_s2CnfYtsd_S"
   },
   "outputs": [],
   "source": [
    "#https://www.tensorflow.org/tutorials/text/image_captioning#model\n",
    "loss_object = tf.keras.losses.SparseCategoricalCrossentropy(from_logits=True, reduction='none')\n",
    "def loss_function(real, pred):\n",
    "    mask = tf.math.logical_not(tf.math.equal(real, 0))\n",
    "    loss_ = loss_object(real, pred)\n",
    "    mask = tf.cast(mask, dtype=loss_.dtype)\n",
    "    loss_ *= mask\n",
    "    return tf.reduce_mean(loss_)"
   ]
  },
  {
   "cell_type": "markdown",
   "metadata": {
    "id": "mY8EPHE2OP4H"
   },
   "source": [
    "## Loading our best model"
   ]
  },
  {
   "cell_type": "code",
   "execution_count": 8,
   "metadata": {
    "id": "GnZG44OvseCj"
   },
   "outputs": [],
   "source": [
    "model = tf.keras.models.load_model('Model_concat', custom_objects={\"loss_function\": loss_function})"
   ]
  },
  {
   "cell_type": "code",
   "execution_count": 9,
   "metadata": {
    "id": "s4Cve9Nus6Ii"
   },
   "outputs": [],
   "source": [
    "UNITS = 200\n",
    "MAX_LEN = 200"
   ]
  },
  {
   "cell_type": "markdown",
   "metadata": {
    "id": "Ih2t0nq9Bg13"
   },
   "source": [
    "## Prediction of 10 sentences from the start of test data set"
   ]
  },
  {
   "cell_type": "code",
   "execution_count": 10,
   "metadata": {
    "id": "WtsejwOsqrjS"
   },
   "outputs": [],
   "source": [
    "def predict(input_sentence, model):\n",
    "    inputs = [tknizer_informal.word_index.get(i, 0) for i in input_sentence]\n",
    "    inputs = tf.keras.preprocessing.sequence.pad_sequences([inputs], maxlen = MAX_LEN, padding = 'post')\n",
    "    inputs = tf.convert_to_tensor(inputs)\n",
    "    result = ''\n",
    "    UNITS=200\n",
    "    hidden = tf.zeros([1, UNITS]), tf.zeros([1, UNITS])\n",
    "    enc_out, state_h, state_c = model.encoder([inputs, hidden])\n",
    "    dec_hidden = [state_h, state_c]\n",
    "    dec_input = tf.expand_dims([tknizer_normal.word_index['<']], 0)\n",
    "    for t in range(MAX_LEN):\n",
    "        output, state_h, state_c = model.decoder.timestepdecoder([dec_input, enc_out, state_h, state_c])\n",
    "        predicted_id = tf.argmax(output[0]).numpy()\n",
    "        if tknizer_normal.index_word.get(predicted_id, '') == '>':\n",
    "            break\n",
    "        else:\n",
    "            result += tknizer_normal.index_word.get(predicted_id, '')\n",
    "            dec_input = tf.expand_dims([predicted_id], 0)\n",
    "    return result"
   ]
  },
  {
   "cell_type": "code",
   "execution_count": 11,
   "metadata": {
    "colab": {
     "base_uri": "https://localhost:8080/"
    },
    "id": "f98Fv8Osqrm2",
    "outputId": "df85065c-5d0b-463e-d34b-ad6d98002747"
   },
   "outputs": [
    {
     "name": "stdout",
     "output_type": "stream",
     "text": [
      "Input sentene : <Watche Just Married. Haha.>\n",
      "Predicted sentence:  Watch Just Married. Haha.\n",
      "original Sentence : Watch Just Married. Haha.>\n",
      "****************************************************************************************************\n",
      "Input sentene : <No problem, control you again presently.>\n",
      "Predicted sentence:  No problem, so I decidency.\n",
      "original Sentence : No problem, see you again soon.>\n",
      "****************************************************************************************************\n",
      "Input sentene : <LOOOL, kidding. Reevaluate already. Overprotective like actually. May I ask you? Must i think I should ripped fringe short?>\n",
      "Predicted sentence:  Langer I have already. Overploised people stule is like attally. Month is all table?\n",
      "original Sentence : Haha, okay. Understand already. Overprotective like that. May I ask you? Do you think I should cut fringe short?>\n",
      "****************************************************************************************************\n",
      "Input sentene : <Haha. Oh, I see. So you must receive redact on lots of system of weights. Me? Never. Little only. Compassion.>\n",
      "Predicted sentence:  Haha. Oh, I see. So you must be receive on lots of weight. Me? Never. Little only. Can see. I can. Love the station.\n",
      "original Sentence : Haha. Oh, I see. So you must have put on lots of weight. Me? Never. Little only. Pity.>\n",
      "****************************************************************************************************\n",
      "Input sentene : <You personify having your lunch at base or in schooltime? Single ' m having lunch now.>\n",
      "Predicted sentence:  You can come out at hair in school? I'm having lunch now.\n",
      "original Sentence : You are having your lunch at home or in school? I'm having lunch now.>\n",
      "****************************************************************************************************\n",
      "Input sentene : <I reach already. Call me when u reach.>\n",
      "Predicted sentence:  I reach already. Call me when you reach.\n",
      "original Sentence : I reach already. Call me when you reach.>\n",
      "****************************************************************************************************\n",
      "Input sentene : <People, who dh you think I’m ama talking ahout? Haha. Study.>\n",
      "Predicted sentence:  People, who do you think I am talking about? Haha. Study.\n",
      "original Sentence : People, who do you think I am talking about? Haha. Study.>\n",
      "****************************************************************************************************\n",
      "Input sentene : <Yupz! Yay! Who ü going w? Call ur other frens?>\n",
      "Predicted sentence:  Yup! You are going with Wak. You reply? Watching?\n",
      "original Sentence : Yes! Yay! Who are you going with? Call your other friends?>\n",
      "****************************************************************************************************\n",
      "Input sentene : <Joey: are you from India?>\n",
      "Predicted sentence:  Joey: are you from India?\n",
      "original Sentence : Joey: are you from India?>\n",
      "****************************************************************************************************\n",
      "Input sentene : <Be either home another terminate with mother more please.>\n",
      "Predicted sentence:  Be got with mother more come alone.\n",
      "original Sentence : Be at home to stay with mother more please.>\n",
      "****************************************************************************************************\n"
     ]
    }
   ],
   "source": [
    "for i in range(10):\n",
    "    sentence=test['informal_text_inp'].iloc[i]\n",
    "    predicted_sentence = predict(sentence,model)\n",
    "    print('Input sentene :',test['informal_text_inp'].iloc[i])\n",
    "    print('Predicted sentence: ',''.join(x for x in predicted_sentence))\n",
    "    print('original Sentence :',test['normal_text_out'].iloc[i])\n",
    "    print('*'*100)"
   ]
  },
  {
   "cell_type": "markdown",
   "metadata": {
    "id": "lHaXSB9HBssz"
   },
   "source": [
    "## Calculating bleu score fro each sentence in test dataset"
   ]
  },
  {
   "cell_type": "code",
   "execution_count": 12,
   "metadata": {
    "colab": {
     "base_uri": "https://localhost:8080/",
     "height": 48,
     "referenced_widgets": [
      "15714e33770d425695219ef4d77c4637",
      "f17258d52c3047e6bca4d0f041372566",
      "1044872bf57c4e7085c738e83711e347",
      "2a8e0dc04ca243ffb5c0536688e348b4",
      "961b93f7153146768c721fe915d64152",
      "b9b862b4fa714450b964f56687641007",
      "6290b3799d984cb2ae75eba9525e1bd9",
      "b520583aecf34aae8b8bad74a3cc318d",
      "1e177f9412af43ca8f746dfb552f0f60",
      "80b019f123a34186b320489f3195a59f",
      "b5e3487ee5fc4201a4c7ea3084f32a0c"
     ]
    },
    "id": "VqQI-Dw7sN4C",
    "outputId": "1886a8ae-cf2b-487b-d267-e70ac8d33b7e"
   },
   "outputs": [
    {
     "data": {
      "application/vnd.jupyter.widget-view+json": {
       "model_id": "15714e33770d425695219ef4d77c4637",
       "version_major": 2,
       "version_minor": 0
      },
      "text/plain": [
       "  0%|          | 0/570 [00:00<?, ?it/s]"
      ]
     },
     "metadata": {},
     "output_type": "display_data"
    }
   ],
   "source": [
    "# https://www.nltk.org/_modules/nltk/translate/bleu_score.html\n",
    "import warnings\n",
    "warnings.filterwarnings('ignore')\n",
    "import nltk.translate.bleu_score as bleu\n",
    "import random\n",
    "from tqdm.auto import tqdm\n",
    "score =[]\n",
    "for i in tqdm(range(test.shape[0])):\n",
    "    #a=random.randint(1,len(test))\n",
    "    translation= predict(test['informal_text_inp'].iloc[i],model)\n",
    "    translation=translation.split()\n",
    "    reference = test['normal_text_out'].iloc[i].split()\n",
    "    score.append(bleu.sentence_bleu([reference], translation))"
   ]
  },
  {
   "cell_type": "markdown",
   "metadata": {
    "id": "U-giZXkkJoBP"
   },
   "source": [
    "# EXPLORATORY DATA ANALYSIS POST TRAINING "
   ]
  },
  {
   "cell_type": "markdown",
   "metadata": {
    "id": "QpxXB6OGBzIK"
   },
   "source": [
    "## 1.Distribution plot of bleu score over test dataset"
   ]
  },
  {
   "cell_type": "code",
   "execution_count": 13,
   "metadata": {
    "colab": {
     "base_uri": "https://localhost:8080/",
     "height": 282
    },
    "id": "opRvH_UDs9rT",
    "outputId": "1bca0217-17be-4893-d9a2-ff8ae6459823"
   },
   "outputs": [
    {
     "data": {
      "text/plain": [
       "<matplotlib.axes._subplots.AxesSubplot at 0x7fe562063a50>"
      ]
     },
     "execution_count": 13,
     "metadata": {},
     "output_type": "execute_result"
    },
    {
     "data": {
      "image/png": "[encoded data removed]",
      "text/plain": [
       "<Figure size 432x288 with 1 Axes>"
      ]
     },
     "metadata": {
      "needs_background": "light"
     },
     "output_type": "display_data"
    }
   ],
   "source": [
    "import seaborn as sns\n",
    "sns.distplot(score)"
   ]
  },
  {
   "cell_type": "code",
   "execution_count": 14,
   "metadata": {
    "colab": {
     "base_uri": "https://localhost:8080/"
    },
    "id": "rh-RcjFHt_AC",
    "outputId": "6b6a2313-21db-43c0-d0f8-59b5fe65f758"
   },
   "outputs": [
    {
     "name": "stdout",
     "output_type": "stream",
     "text": [
      "0.948543837069451\n",
      "0.0\n",
      "0.4627147470492333\n"
     ]
    }
   ],
   "source": [
    "print(np.max(score))\n",
    "print(np.min(score))\n",
    "print(np.mean(score))"
   ]
  },
  {
   "cell_type": "markdown",
   "metadata": {
    "id": "OZtZVZyOB4NW"
   },
   "source": [
    "## Inference\n",
    "We can see that bleu score is kind of following normal distributionplot  and important insights that we can observe are:\n",
    "\n",
    "    1.Maximum value of bleu score is 0.948543837069451\n",
    "    2.Minimum value of bleu score is 0.0\n",
    "    3.Average value of bleu score is 0.4627147470492333"
   ]
  },
  {
   "cell_type": "markdown",
   "metadata": {
    "id": "RllPMlerJwzx"
   },
   "source": [
    "## 2.Finding relation between sentence length and bleu score of predicted sentence"
   ]
  },
  {
   "cell_type": "code",
   "execution_count": 30,
   "metadata": {
    "id": "IayOA_mpIAO_"
   },
   "outputs": [],
   "source": [
    "sentence_length=test['informal_text_inp'].str.split().apply(len)\n",
    "d = {'sentence_length': sentence_length, 'bleu_score': score}\n",
    "df = pd.DataFrame(data=d)\n",
    "df.reset_index(inplace=True,drop=True)"
   ]
  },
  {
   "cell_type": "code",
   "execution_count": 31,
   "metadata": {
    "colab": {
     "base_uri": "https://localhost:8080/",
     "height": 202
    },
    "id": "wzAhrK8zIKYC",
    "outputId": "18fd5742-4b67-4dae-a2ff-05cfdea8d75c"
   },
   "outputs": [
    {
     "data": {
      "text/html": [
       "<div>\n",
       "<style scoped>\n",
       "    .dataframe tbody tr th:only-of-type {\n",
       "        vertical-align: middle;\n",
       "    }\n",
       "\n",
       "    .dataframe tbody tr th {\n",
       "        vertical-align: top;\n",
       "    }\n",
       "\n",
       "    .dataframe thead th {\n",
       "        text-align: right;\n",
       "    }\n",
       "</style>\n",
       "<table border=\"1\" class=\"dataframe\">\n",
       "  <thead>\n",
       "    <tr style=\"text-align: right;\">\n",
       "      <th></th>\n",
       "      <th>sentence_length</th>\n",
       "      <th>bleu_score</th>\n",
       "    </tr>\n",
       "  </thead>\n",
       "  <tbody>\n",
       "    <tr>\n",
       "      <th>113</th>\n",
       "      <td>20</td>\n",
       "      <td>0.942615</td>\n",
       "    </tr>\n",
       "    <tr>\n",
       "      <th>169</th>\n",
       "      <td>22</td>\n",
       "      <td>0.945742</td>\n",
       "    </tr>\n",
       "    <tr>\n",
       "      <th>172</th>\n",
       "      <td>37</td>\n",
       "      <td>0.934335</td>\n",
       "    </tr>\n",
       "    <tr>\n",
       "      <th>273</th>\n",
       "      <td>23</td>\n",
       "      <td>0.948544</td>\n",
       "    </tr>\n",
       "    <tr>\n",
       "      <th>287</th>\n",
       "      <td>19</td>\n",
       "      <td>0.935133</td>\n",
       "    </tr>\n",
       "  </tbody>\n",
       "</table>\n",
       "</div>"
      ],
      "text/plain": [
       "     sentence_length  bleu_score\n",
       "113               20    0.942615\n",
       "169               22    0.945742\n",
       "172               37    0.934335\n",
       "273               23    0.948544\n",
       "287               19    0.935133"
      ]
     },
     "execution_count": 31,
     "metadata": {},
     "output_type": "execute_result"
    }
   ],
   "source": [
    "df[df['bleu_score']>.93][:5]"
   ]
  },
  {
   "cell_type": "code",
   "execution_count": 35,
   "metadata": {
    "colab": {
     "base_uri": "https://localhost:8080/",
     "height": 202
    },
    "id": "Dek1sU5cITEX",
    "outputId": "2a3db090-8d63-4190-aa69-b4eecd50eced"
   },
   "outputs": [
    {
     "data": {
      "text/html": [
       "<div>\n",
       "<style scoped>\n",
       "    .dataframe tbody tr th:only-of-type {\n",
       "        vertical-align: middle;\n",
       "    }\n",
       "\n",
       "    .dataframe tbody tr th {\n",
       "        vertical-align: top;\n",
       "    }\n",
       "\n",
       "    .dataframe thead th {\n",
       "        text-align: right;\n",
       "    }\n",
       "</style>\n",
       "<table border=\"1\" class=\"dataframe\">\n",
       "  <thead>\n",
       "    <tr style=\"text-align: right;\">\n",
       "      <th></th>\n",
       "      <th>sentence_length</th>\n",
       "      <th>bleu_score</th>\n",
       "    </tr>\n",
       "  </thead>\n",
       "  <tbody>\n",
       "    <tr>\n",
       "      <th>0</th>\n",
       "      <td>4</td>\n",
       "      <td>0.707107</td>\n",
       "    </tr>\n",
       "    <tr>\n",
       "      <th>3</th>\n",
       "      <td>20</td>\n",
       "      <td>0.524532</td>\n",
       "    </tr>\n",
       "    <tr>\n",
       "      <th>5</th>\n",
       "      <td>8</td>\n",
       "      <td>0.840896</td>\n",
       "    </tr>\n",
       "    <tr>\n",
       "      <th>6</th>\n",
       "      <td>11</td>\n",
       "      <td>0.893154</td>\n",
       "    </tr>\n",
       "    <tr>\n",
       "      <th>7</th>\n",
       "      <td>10</td>\n",
       "      <td>0.549778</td>\n",
       "    </tr>\n",
       "  </tbody>\n",
       "</table>\n",
       "</div>"
      ],
      "text/plain": [
       "   sentence_length  bleu_score\n",
       "0                4    0.707107\n",
       "3               20    0.524532\n",
       "5                8    0.840896\n",
       "6               11    0.893154\n",
       "7               10    0.549778"
      ]
     },
     "execution_count": 35,
     "metadata": {},
     "output_type": "execute_result"
    }
   ],
   "source": [
    "df[df['bleu_score']>.5][:5]"
   ]
  },
  {
   "cell_type": "code",
   "execution_count": 40,
   "metadata": {
    "colab": {
     "base_uri": "https://localhost:8080/",
     "height": 202
    },
    "id": "PkEolS1gIy0H",
    "outputId": "686df44a-4a61-48aa-9351-2dd9b666fbca"
   },
   "outputs": [
    {
     "data": {
      "text/html": [
       "<div>\n",
       "<style scoped>\n",
       "    .dataframe tbody tr th:only-of-type {\n",
       "        vertical-align: middle;\n",
       "    }\n",
       "\n",
       "    .dataframe tbody tr th {\n",
       "        vertical-align: top;\n",
       "    }\n",
       "\n",
       "    .dataframe thead th {\n",
       "        text-align: right;\n",
       "    }\n",
       "</style>\n",
       "<table border=\"1\" class=\"dataframe\">\n",
       "  <thead>\n",
       "    <tr style=\"text-align: right;\">\n",
       "      <th></th>\n",
       "      <th>sentence_length</th>\n",
       "      <th>bleu_score</th>\n",
       "    </tr>\n",
       "  </thead>\n",
       "  <tbody>\n",
       "    <tr>\n",
       "      <th>53</th>\n",
       "      <td>9</td>\n",
       "      <td>0.0</td>\n",
       "    </tr>\n",
       "    <tr>\n",
       "      <th>62</th>\n",
       "      <td>4</td>\n",
       "      <td>0.0</td>\n",
       "    </tr>\n",
       "    <tr>\n",
       "      <th>75</th>\n",
       "      <td>5</td>\n",
       "      <td>0.0</td>\n",
       "    </tr>\n",
       "    <tr>\n",
       "      <th>81</th>\n",
       "      <td>2</td>\n",
       "      <td>0.0</td>\n",
       "    </tr>\n",
       "    <tr>\n",
       "      <th>87</th>\n",
       "      <td>5</td>\n",
       "      <td>0.0</td>\n",
       "    </tr>\n",
       "  </tbody>\n",
       "</table>\n",
       "</div>"
      ],
      "text/plain": [
       "    sentence_length  bleu_score\n",
       "53                9         0.0\n",
       "62                4         0.0\n",
       "75                5         0.0\n",
       "81                2         0.0\n",
       "87                5         0.0"
      ]
     },
     "execution_count": 40,
     "metadata": {},
     "output_type": "execute_result"
    }
   ],
   "source": [
    "df[df['bleu_score']==0][:5]"
   ]
  },
  {
   "cell_type": "code",
   "execution_count": 46,
   "metadata": {
    "colab": {
     "base_uri": "https://localhost:8080/"
    },
    "id": "qJk3HYInJQ0r",
    "outputId": "c00862a8-7ab6-409b-dbdc-c3ca00035be5"
   },
   "outputs": [
    {
     "name": "stdout",
     "output_type": "stream",
     "text": [
      "Average sentence length for best bleu score   : 24.2\n",
      "Average sentence length for medium bleu score : 11.102766798418973\n",
      "Average sentence length for worst bleu score  : 5.333333333333333\n"
     ]
    }
   ],
   "source": [
    "print('Average sentence length for best bleu score   :',np.mean(df[df['bleu_score']>.93]['sentence_length']))\n",
    "print('Average sentence length for medium bleu score :',np.mean(df[df['bleu_score']>.5]['sentence_length']))\n",
    "print('Average sentence length for worst bleu score  :',np.mean(df[df['bleu_score']==0]['sentence_length']))"
   ]
  },
  {
   "cell_type": "markdown",
   "metadata": {
    "id": "Hp2KTl2zNVvb"
   },
   "source": [
    "### Inference\n",
    " We can see that as the sentence length is increasing bleu score is increasing ,for sentences with lesser number of characters we are getting low bleu score"
   ]
  },
  {
   "cell_type": "markdown",
   "metadata": {
    "id": "TjMsI06SCld5"
   },
   "source": [
    "## We will print prediction of  5 sentences of  best bleu score ,5 sentences of medium bleu score  and 5 sentences of worst bleu score "
   ]
  },
  {
   "cell_type": "markdown",
   "metadata": {
    "id": "MkSjNQmjDJMZ"
   },
   "source": [
    "### 5 sentences having best bleu score"
   ]
  },
  {
   "cell_type": "code",
   "execution_count": 15,
   "metadata": {
    "colab": {
     "base_uri": "https://localhost:8080/"
    },
    "id": "zk-cvdQrtlT9",
    "outputId": "7a13a8f2-10a4-490c-ff83-18a26e86d53a"
   },
   "outputs": [
    {
     "name": "stdout",
     "output_type": "stream",
     "text": [
      "Input sentene : <Sharis, Gen asks if we need to meet up today. Are you free? Please respond as before long as possible.>\n",
      "Predicted sentence:  Sharis, Gen asks if we want to meet up today. Are you free? Please reply as soon as possible.\n",
      "original Sentence : Sharis, Gen asks if we want to meet up today. Are you free? Please reply as soon as possible.>\n",
      "****************************************************************************************************\n",
      "Input sentene : <Hectometer. Yes, I don ' t mind going, but she vocalize like she really needs to sell the ticket. Be you going?>\n",
      "Predicted sentence:  Hm. Yes, I don't mind going, but she sounds like she really needs to sell the tickets. Are you going?\n",
      "original Sentence : Hm. Yes, I don't mind going, but she sounds like she really needs to sell the tickets. Are you going?>\n",
      "****************************************************************************************************\n",
      "Input sentene : <You ' ve got tuition in the afternoon. Ok. Haha, my sister ask if she seat borrow your card, she also wants to go Kb. Haha, so mean. So I ' ll sports meeting you for drive.>\n",
      "Predicted sentence:  You're got tuition in the afternoon. Ok. Haha, my sister asked if she can borrow your card, she also wants to go Kb. Haha, so mean. So I'll meet you for driving.\n",
      "original Sentence : You've got tuition in the afternoon. Ok. Haha, my sister asked if she can borrow your card, she also wants to go Kb. Haha, so mean. So I'll meet you for driving.>\n",
      "****************************************************************************************************\n",
      "Input sentene : <I be free after 2pm. Why don ' t you message Eymani and meet her at 12? Then I meet her at 2pm?>\n",
      "Predicted sentence:  I am free after 2pm. Why don't you message Eymani and meet her at 12? Then I meet her at 2pm?\n",
      "original Sentence : I am free after 2pm. Why don't you message Eymani and meet her at 12? Then I meet her at 2pm?>\n",
      "****************************************************************************************************\n",
      "Input sentene : <HKY, I remember I have to give you $ xxx (at Peace Centre 2 week ago ). cc LCT>\n",
      "Predicted sentence:  HKY, I remember I have to give you $30 (at Peace Centre 2 weeks ago). cc LCT\n",
      "original Sentence : HKY, I remember I have to give you $30 (at Peace Centre 2 weeks ago). cc LCT>\n",
      "****************************************************************************************************\n"
     ]
    }
   ],
   "source": [
    "for i,j in enumerate(score):\n",
    "  if j>0.93:\n",
    "    sentence=test['informal_text_inp'].iloc[i]\n",
    "    predicted_sentence = predict(sentence,model)\n",
    "    print('Input sentene :',test['informal_text_inp'].iloc[i])\n",
    "    print('Predicted sentence: ',''.join(x for x in predicted_sentence))\n",
    "    print('original Sentence :',test['normal_text_out'].iloc[i])\n",
    "    print('*'*100)"
   ]
  },
  {
   "cell_type": "markdown",
   "metadata": {
    "id": "v004ALG8DRtb"
   },
   "source": [
    "### 5 sentences having medium bleu score"
   ]
  },
  {
   "cell_type": "code",
   "execution_count": 17,
   "metadata": {
    "colab": {
     "base_uri": "https://localhost:8080/"
    },
    "id": "hZSVQbLjuK3D",
    "outputId": "1d3e30cd-6f5b-42c9-d76d-29349c68856d"
   },
   "outputs": [
    {
     "name": "stdout",
     "output_type": "stream",
     "text": [
      "Input sentene : <Hi! Can editors chat?>\n",
      "Predicted sentence:  Hi! Can interest you coming topics?\n",
      "original Sentence : Hi! Can we chat?>\n",
      "****************************************************************************************************\n",
      "Input sentene : <Haha. Ok. Likely Borburn Coke?>\n",
      "Predicted sentence:  Haha. Ok. Sigh. Look in 2nd?\n",
      "original Sentence : Haha. Ok. Probably Borburn Coke?>\n",
      "****************************************************************************************************\n",
      "Input sentene : <Yes. I own ' t forgert you. Naw have to help Xin chop one more sit, I began the chooping girl aleady.>\n",
      "Predicted sentence:  Yes. I apply there are you. Now have to help Xin chop one more seat, I belated the choose because of SART.\n",
      "original Sentence : Yes. I won't forget you. Now have to help Xin chop one more seat, I became the chopping girl already.>\n",
      "****************************************************************************************************\n",
      "Input sentene : <Two: Thirty then. Where wll you be?>\n",
      "Predicted sentence:  Today then. Where will you be?\n",
      "original Sentence : 2:30 then. Where will you be?>\n",
      "****************************************************************************************************\n",
      "Input sentene : <Joey: Rin, attention to introduce?>\n",
      "Predicted sentence:  Joey: Rin, atthink at too then?\n",
      "original Sentence : Joey: Rin, care to introduce?>\n",
      "****************************************************************************************************\n"
     ]
    }
   ],
   "source": [
    "c=0\n",
    "for i,j in enumerate(score):\n",
    "  if j>0.5 and j<0.51:\n",
    "    c=c+1\n",
    "    if c<6:\n",
    "      sentence=test['informal_text_inp'].iloc[i]\n",
    "      predicted_sentence = predict(sentence,model)\n",
    "      print('Input sentene :',test['informal_text_inp'].iloc[i])\n",
    "      print('Predicted sentence: ',''.join(x for x in predicted_sentence))\n",
    "      print('original Sentence :',test['normal_text_out'].iloc[i])\n",
    "      print('*'*100)"
   ]
  },
  {
   "cell_type": "markdown",
   "metadata": {
    "id": "3RLOsjkxDUe7"
   },
   "source": [
    "### 5 sentences having worst bleu score"
   ]
  },
  {
   "cell_type": "code",
   "execution_count": 18,
   "metadata": {
    "colab": {
     "base_uri": "https://localhost:8080/"
    },
    "id": "QBThEU7bu2Cg",
    "outputId": "dca8716d-c37a-4ef7-a242-258c0d4584a8"
   },
   "outputs": [
    {
     "name": "stdout",
     "output_type": "stream",
     "text": [
      "Input sentene : <Hatchet man hi! you sape nama? boleh kite chat?>\n",
      "Predicted sentence:  Have next man up to call at home? What time and have boxere chat?\n",
      "original Sentence : Iceman hi! you sape nama? boleh kite chat?>\n",
      "****************************************************************************************************\n",
      "Input sentene : <Sweep and playing games.>\n",
      "Predicted sentence:  Sailes. Think anything get.\n",
      "original Sentence : Sailing and playing games.>\n",
      "****************************************************************************************************\n",
      "Input sentene : <bakshis, WHAT arR yoU DOING?>\n",
      "Predicted sentence:  Not arrang Millian, you don't you?\n",
      "original Sentence : TIP,WHAT arR yoU DOING ?>\n",
      "****************************************************************************************************\n",
      "Input sentene : <Clearly no.>\n",
      "Predicted sentence:  Call now.\n",
      "original Sentence : No no.>\n",
      "****************************************************************************************************\n",
      "Input sentene : <Embody it the last price?>\n",
      "Predicted sentence:  Ermina chickage discuss?\n",
      "original Sentence : Is it the last price?>\n",
      "****************************************************************************************************\n"
     ]
    }
   ],
   "source": [
    "c=0\n",
    "for i,j in enumerate(score):\n",
    "  if j==0:\n",
    "    c=c+1\n",
    "    if c<6:\n",
    "      sentence=test['informal_text_inp'].iloc[i]\n",
    "      predicted_sentence = predict(sentence,model)\n",
    "      print('Input sentene :',test['informal_text_inp'].iloc[i])\n",
    "      print('Predicted sentence: ',''.join(x for x in predicted_sentence))\n",
    "      print('original Sentence :',test['normal_text_out'].iloc[i])\n",
    "      print('*'*100)"
   ]
  },
  {
   "cell_type": "markdown",
   "metadata": {
    "id": "ZlHgCTdBDXr8"
   },
   "source": [
    "# Analysis based on prediction of best ,medium and worst bleu score sentences"
   ]
  },
  {
   "cell_type": "markdown",
   "metadata": {
    "id": "wZo1plUhDlkl"
   },
   "source": [
    "1.Sentences having best bleu score are very less punctuations or capital and small characters combinations\n",
    "\n",
    "    ex:\n",
    "\n",
    "    Predicted sentence:  Sharis, Gen asks if we want to meet up today. Are you free? Please reply as soon as possible.\n",
    "    original Sentence : Sharis, Gen asks if we want to meet up today. Are you free? Please reply as soon as possible.\n",
    "\n",
    "2.Sentences having medium  bleu score are some  punctuations or alpha numeric  combinations\n",
    "\n",
    "    ex:\n",
    "\n",
    "    Predicted sentence:  Today then. Where will you be?\n",
    "    original Sentence : 2:30 then. Where will you be?>\n",
    "\n",
    "3.Sentences having worst  bleu score are many punctuations or combinations of uppercase and lower case characters or alpha numeric combinations.\n",
    "\n",
    "    ex:\n",
    "    Predicted sentence:  Not arrang Millian, you don't you?\n",
    "    original Sentence : TIP,WHAT arR yoU DOING ?>"
   ]
  },
  {
   "cell_type": "markdown",
   "metadata": {
    "id": "emiWNjlkFQwj"
   },
   "source": [
    "# CONCLUSION\n",
    "1.As we have very less amount of data only 2k .So,it is very difficult for any complex model also to learn the pattern and give good bleu score .\n",
    "\n",
    "2.We have done data augmenation and made data to 12k from 2k with relevant augmenation technique like model based word augmenation,synonym augmentation ,spelling augmentation and after that we are able to achieve this much accuracy in prediction to improve it further we have to take larger dataset for sentence correction like GYAFC corpus."
   ]
  },
  {
   "cell_type": "code",
   "execution_count": null,
   "metadata": {},
   "outputs": [],
   "source": []
  }
 ],
 "metadata": {
  "colab": {
   "name": "Post_training_analysis.ipynb",
   "provenance": []
  },
  "kernelspec": {
   "display_name": "Python 3",
   "language": "python",
   "name": "python3"
  },
  "language_info": {
   "codemirror_mode": {
    "name": "ipython",
    "version": 3
   },
   "file_extension": ".py",
   "mimetype": "text/x-python",
   "name": "python",
   "nbconvert_exporter": "python",
   "pygments_lexer": "ipython3",
   "version": "3.7.6"
  },
  "widgets": {
   "application/vnd.jupyter.widget-state+json": {
    "1044872bf57c4e7085c738e83711e347": {
     "model_module": "@jupyter-widgets/controls",
     "model_module_version": "1.5.0",
     "model_name": "HTMLModel",
     "state": {
      "_dom_classes": [],
      "_model_module": "@jupyter-widgets/controls",
      "_model_module_version": "1.5.0",
      "_model_name": "HTMLModel",
      "_view_count": null,
      "_view_module": "@jupyter-widgets/controls",
      "_view_module_version": "1.5.0",
      "_view_name": "HTMLView",
      "description": "",
      "description_tooltip": null,
      "layout": "IPY_MODEL_6290b3799d984cb2ae75eba9525e1bd9",
      "placeholder": "​",
      "style": "IPY_MODEL_b9b862b4fa714450b964f56687641007",
      "value": "100%"
     }
    },
    "15714e33770d425695219ef4d77c4637": {
     "model_module": "@jupyter-widgets/controls",
     "model_module_version": "1.5.0",
     "model_name": "HBoxModel",
     "state": {
      "_dom_classes": [],
      "_model_module": "@jupyter-widgets/controls",
      "_model_module_version": "1.5.0",
      "_model_name": "HBoxModel",
      "_view_count": null,
      "_view_module": "@jupyter-widgets/controls",
      "_view_module_version": "1.5.0",
      "_view_name": "HBoxView",
      "box_style": "",
      "children": [
       "IPY_MODEL_1044872bf57c4e7085c738e83711e347",
       "IPY_MODEL_2a8e0dc04ca243ffb5c0536688e348b4",
       "IPY_MODEL_961b93f7153146768c721fe915d64152"
      ],
      "layout": "IPY_MODEL_f17258d52c3047e6bca4d0f041372566"
     }
    },
    "1e177f9412af43ca8f746dfb552f0f60": {
     "model_module": "@jupyter-widgets/base",
     "model_module_version": "1.2.0",
     "model_name": "LayoutModel",
     "state": {
      "_model_module": "@jupyter-widgets/base",
      "_model_module_version": "1.2.0",
      "_model_name": "LayoutModel",
      "_view_count": null,
      "_view_module": "@jupyter-widgets/base",
      "_view_module_version": "1.2.0",
      "_view_name": "LayoutView",
      "align_content": null,
      "align_items": null,
      "align_self": null,
      "border": null,
      "bottom": null,
      "display": null,
      "flex": null,
      "flex_flow": null,
      "grid_area": null,
      "grid_auto_columns": null,
      "grid_auto_flow": null,
      "grid_auto_rows": null,
      "grid_column": null,
      "grid_gap": null,
      "grid_row": null,
      "grid_template_areas": null,
      "grid_template_columns": null,
      "grid_template_rows": null,
      "height": null,
      "justify_content": null,
      "justify_items": null,
      "left": null,
      "margin": null,
      "max_height": null,
      "max_width": null,
      "min_height": null,
      "min_width": null,
      "object_fit": null,
      "object_position": null,
      "order": null,
      "overflow": null,
      "overflow_x": null,
      "overflow_y": null,
      "padding": null,
      "right": null,
      "top": null,
      "visibility": null,
      "width": null
     }
    },
    "2a8e0dc04ca243ffb5c0536688e348b4": {
     "model_module": "@jupyter-widgets/controls",
     "model_module_version": "1.5.0",
     "model_name": "FloatProgressModel",
     "state": {
      "_dom_classes": [],
      "_model_module": "@jupyter-widgets/controls",
      "_model_module_version": "1.5.0",
      "_model_name": "FloatProgressModel",
      "_view_count": null,
      "_view_module": "@jupyter-widgets/controls",
      "_view_module_version": "1.5.0",
      "_view_name": "ProgressView",
      "bar_style": "success",
      "description": "",
      "description_tooltip": null,
      "layout": "IPY_MODEL_1e177f9412af43ca8f746dfb552f0f60",
      "max": 570,
      "min": 0,
      "orientation": "horizontal",
      "style": "IPY_MODEL_b520583aecf34aae8b8bad74a3cc318d",
      "value": 570
     }
    },
    "6290b3799d984cb2ae75eba9525e1bd9": {
     "model_module": "@jupyter-widgets/base",
     "model_module_version": "1.2.0",
     "model_name": "LayoutModel",
     "state": {
      "_model_module": "@jupyter-widgets/base",
      "_model_module_version": "1.2.0",
      "_model_name": "LayoutModel",
      "_view_count": null,
      "_view_module": "@jupyter-widgets/base",
      "_view_module_version": "1.2.0",
      "_view_name": "LayoutView",
      "align_content": null,
      "align_items": null,
      "align_self": null,
      "border": null,
      "bottom": null,
      "display": null,
      "flex": null,
      "flex_flow": null,
      "grid_area": null,
      "grid_auto_columns": null,
      "grid_auto_flow": null,
      "grid_auto_rows": null,
      "grid_column": null,
      "grid_gap": null,
      "grid_row": null,
      "grid_template_areas": null,
      "grid_template_columns": null,
      "grid_template_rows": null,
      "height": null,
      "justify_content": null,
      "justify_items": null,
      "left": null,
      "margin": null,
      "max_height": null,
      "max_width": null,
      "min_height": null,
      "min_width": null,
      "object_fit": null,
      "object_position": null,
      "order": null,
      "overflow": null,
      "overflow_x": null,
      "overflow_y": null,
      "padding": null,
      "right": null,
      "top": null,
      "visibility": null,
      "width": null
     }
    },
    "80b019f123a34186b320489f3195a59f": {
     "model_module": "@jupyter-widgets/controls",
     "model_module_version": "1.5.0",
     "model_name": "DescriptionStyleModel",
     "state": {
      "_model_module": "@jupyter-widgets/controls",
      "_model_module_version": "1.5.0",
      "_model_name": "DescriptionStyleModel",
      "_view_count": null,
      "_view_module": "@jupyter-widgets/base",
      "_view_module_version": "1.2.0",
      "_view_name": "StyleView",
      "description_width": ""
     }
    },
    "961b93f7153146768c721fe915d64152": {
     "model_module": "@jupyter-widgets/controls",
     "model_module_version": "1.5.0",
     "model_name": "HTMLModel",
     "state": {
      "_dom_classes": [],
      "_model_module": "@jupyter-widgets/controls",
      "_model_module_version": "1.5.0",
      "_model_name": "HTMLModel",
      "_view_count": null,
      "_view_module": "@jupyter-widgets/controls",
      "_view_module_version": "1.5.0",
      "_view_name": "HTMLView",
      "description": "",
      "description_tooltip": null,
      "layout": "IPY_MODEL_b5e3487ee5fc4201a4c7ea3084f32a0c",
      "placeholder": "​",
      "style": "IPY_MODEL_80b019f123a34186b320489f3195a59f",
      "value": " 570/570 [02:32&lt;00:00,  2.61it/s]"
     }
    },
    "b520583aecf34aae8b8bad74a3cc318d": {
     "model_module": "@jupyter-widgets/controls",
     "model_module_version": "1.5.0",
     "model_name": "ProgressStyleModel",
     "state": {
      "_model_module": "@jupyter-widgets/controls",
      "_model_module_version": "1.5.0",
      "_model_name": "ProgressStyleModel",
      "_view_count": null,
      "_view_module": "@jupyter-widgets/base",
      "_view_module_version": "1.2.0",
      "_view_name": "StyleView",
      "bar_color": null,
      "description_width": ""
     }
    },
    "b5e3487ee5fc4201a4c7ea3084f32a0c": {
     "model_module": "@jupyter-widgets/base",
     "model_module_version": "1.2.0",
     "model_name": "LayoutModel",
     "state": {
      "_model_module": "@jupyter-widgets/base",
      "_model_module_version": "1.2.0",
      "_model_name": "LayoutModel",
      "_view_count": null,
      "_view_module": "@jupyter-widgets/base",
      "_view_module_version": "1.2.0",
      "_view_name": "LayoutView",
      "align_content": null,
      "align_items": null,
      "align_self": null,
      "border": null,
      "bottom": null,
      "display": null,
      "flex": null,
      "flex_flow": null,
      "grid_area": null,
      "grid_auto_columns": null,
      "grid_auto_flow": null,
      "grid_auto_rows": null,
      "grid_column": null,
      "grid_gap": null,
      "grid_row": null,
      "grid_template_areas": null,
      "grid_template_columns": null,
      "grid_template_rows": null,
      "height": null,
      "justify_content": null,
      "justify_items": null,
      "left": null,
      "margin": null,
      "max_height": null,
      "max_width": null,
      "min_height": null,
      "min_width": null,
      "object_fit": null,
      "object_position": null,
      "order": null,
      "overflow": null,
      "overflow_x": null,
      "overflow_y": null,
      "padding": null,
      "right": null,
      "top": null,
      "visibility": null,
      "width": null
     }
    },
    "b9b862b4fa714450b964f56687641007": {
     "model_module": "@jupyter-widgets/controls",
     "model_module_version": "1.5.0",
     "model_name": "DescriptionStyleModel",
     "state": {
      "_model_module": "@jupyter-widgets/controls",
      "_model_module_version": "1.5.0",
      "_model_name": "DescriptionStyleModel",
      "_view_count": null,
      "_view_module": "@jupyter-widgets/base",
      "_view_module_version": "1.2.0",
      "_view_name": "StyleView",
      "description_width": ""
     }
    },
    "f17258d52c3047e6bca4d0f041372566": {
     "model_module": "@jupyter-widgets/base",
     "model_module_version": "1.2.0",
     "model_name": "LayoutModel",
     "state": {
      "_model_module": "@jupyter-widgets/base",
      "_model_module_version": "1.2.0",
      "_model_name": "LayoutModel",
      "_view_count": null,
      "_view_module": "@jupyter-widgets/base",
      "_view_module_version": "1.2.0",
      "_view_name": "LayoutView",
      "align_content": null,
      "align_items": null,
      "align_self": null,
      "border": null,
      "bottom": null,
      "display": null,
      "flex": null,
      "flex_flow": null,
      "grid_area": null,
      "grid_auto_columns": null,
      "grid_auto_flow": null,
      "grid_auto_rows": null,
      "grid_column": null,
      "grid_gap": null,
      "grid_row": null,
      "grid_template_areas": null,
      "grid_template_columns": null,
      "grid_template_rows": null,
      "height": null,
      "justify_content": null,
      "justify_items": null,
      "left": null,
      "margin": null,
      "max_height": null,
      "max_width": null,
      "min_height": null,
      "min_width": null,
      "object_fit": null,
      "object_position": null,
      "order": null,
      "overflow": null,
      "overflow_x": null,
      "overflow_y": null,
      "padding": null,
      "right": null,
      "top": null,
      "visibility": null,
      "width": null
     }
    }
   }
  }
 },
 "nbformat": 4,
 "nbformat_minor": 1
}
